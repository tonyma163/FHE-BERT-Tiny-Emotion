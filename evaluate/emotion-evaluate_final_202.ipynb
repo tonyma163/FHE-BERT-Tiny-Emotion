{
 "cells": [
  {
   "cell_type": "markdown",
   "metadata": {},
   "source": [
    "# Evaluate Emotion Classification"
   ]
  },
  {
   "cell_type": "code",
   "execution_count": 1,
   "metadata": {},
   "outputs": [
    {
     "name": "stderr",
     "output_type": "stream",
     "text": [
      "/Users/tonyma/code/FHE-BERT-Tiny-Emotion/env/lib/python3.12/site-packages/tqdm/auto.py:21: TqdmWarning: IProgress not found. Please update jupyter and ipywidgets. See https://ipywidgets.readthedocs.io/en/stable/user_install.html\n",
      "  from .autonotebook import tqdm as notebook_tqdm\n"
     ]
    }
   ],
   "source": [
    "import subprocess\n",
    "from datasets import load_dataset\n",
    "import re\n",
    "import os\n",
    "os.environ[\"TOKENIZERS_PARALLELISM\"] = \"false\"\n",
    "\n",
    "dataset = load_dataset(\"dair-ai/emotion\", split=\"test\")"
   ]
  },
  {
   "cell_type": "code",
   "execution_count": 2,
   "metadata": {},
   "outputs": [],
   "source": [
    "correct = []\n",
    "error = []\n",
    "output = []\n",
    "execution_times = []\n",
    "\n",
    "func_error = []\n",
    "count = 0\n",
    "\n",
    "def run_fhe_bert_tiny(sample):\n",
    "    global correct, error, func_error, output, execution_times, count\n",
    "    #print(sample)\n",
    "    \n",
    "    sentence = sample['text']\n",
    "    print(\"sentence: \", sentence)\n",
    "    \n",
    "    cmd = [f\"./FHE-BERT-Tiny\", sentence]\n",
    "    #cmd = [\"./FHE-BERT-Tiny\", sentence, \"--verbose\"]\n",
    "    \n",
    "    result = subprocess.run(\n",
    "        cmd,\n",
    "        capture_output=True,\n",
    "        text=True\n",
    "    )\n",
    "    \n",
    "    # format\n",
    "    result = result.stdout.strip()\n",
    "    #print(\"raw result\", result)\n",
    "    \n",
    "    # check [x, x, x, x, x, x]\n",
    "    #pattern = r'\\[(.*?)\\]'\n",
    "    pattern = r'plain_result: \\[(.*?)\\]'\n",
    "    match = re.search(pattern, result)\n",
    "    tmp = match.group(1).split(\",\")\n",
    "    res = [float(x) for x in tmp]\n",
    "    output.append(res)\n",
    "    print(res)\n",
    "    \n",
    "    # execution time\n",
    "    # The evaluation of the FHE circuit took: 121 seconds.\n",
    "    pattern_time = r'The evaluation of the FHE circuit took:\\s*(\\d+)\\s*seconds'\n",
    "    match_time = re.search(pattern_time, result)\n",
    "    seconds = float(match_time.group(1))\n",
    "    execution_times.append(seconds)\n",
    "        \n",
    "    if (\"Outcome: sadness\" in result):\n",
    "        if (sample['label'] == 0):\n",
    "            correct.append(count)\n",
    "            print(\"sadness\")\n",
    "        else:\n",
    "            error.append(count)\n",
    "    elif (\"Outcome: joy\" in result):\n",
    "        if (sample['label'] == 1):\n",
    "            correct.append(count)\n",
    "            print(\"joy\")\n",
    "        else:\n",
    "            error.append(count)\n",
    "    elif (\"Outcome: love\" in result):\n",
    "        if (sample['label'] == 2):\n",
    "            correct.append(count)\n",
    "            print(\"love\")\n",
    "        else:\n",
    "            error.append(count)\n",
    "    elif (\"Outcome: anger\" in result):\n",
    "        if (sample['label'] == 3):\n",
    "            correct.append(count)\n",
    "            print(\"anger\")\n",
    "        else:\n",
    "            error.append(count)\n",
    "    elif (\"Outcome: fear\" in result):\n",
    "        if (sample['label'] == 4):\n",
    "            correct.append(count)\n",
    "            print(\"fear\")\n",
    "        else:\n",
    "            error.append(count)\n",
    "    elif (\"Outcome: surprise\" in result):\n",
    "        if (sample['label'] == 5):\n",
    "            correct.append(count)\n",
    "            print(\"surprise\")\n",
    "        else:\n",
    "            error.append(count)\n",
    "    else: # error\n",
    "        func_error.append(count)\n",
    "        \n",
    "    print(seconds, \"seconds\")"
   ]
  },
  {
   "cell_type": "code",
   "execution_count": 3,
   "metadata": {},
   "outputs": [
    {
     "name": "stderr",
     "output_type": "stream",
     "text": [
      "  0%|          | 0/100 [00:00<?, ?it/s]"
     ]
    },
    {
     "name": "stdout",
     "output_type": "stream",
     "text": [
      "sentence:  im feeling rather rotten so im not very ambitious right now\n"
     ]
    },
    {
     "name": "stderr",
     "output_type": "stream",
     "text": [
      "  1%|          | 1/100 [03:26<5:40:52, 206.60s/it]"
     ]
    },
    {
     "name": "stdout",
     "output_type": "stream",
     "text": [
      "[7.1202, -0.430473, -2.80049, -1.21845, -1.56255, -2.87143]\n",
      "sadness\n",
      "195.0 seconds\n",
      "sentence:  im updating my blog because i feel shitty\n"
     ]
    },
    {
     "name": "stderr",
     "output_type": "stream",
     "text": [
      "  2%|▏         | 2/100 [06:30<5:15:38, 193.25s/it]"
     ]
    },
    {
     "name": "stdout",
     "output_type": "stream",
     "text": [
      "[7.29627, -0.953606, -2.79193, -1.09339, -0.965056, -3.18813]\n",
      "sadness\n",
      "173.0 seconds\n",
      "sentence:  i never make her separate from me because i don t ever want her to feel like i m ashamed with her\n"
     ]
    },
    {
     "name": "stderr",
     "output_type": "stream",
     "text": [
      "  3%|▎         | 3/100 [11:44<6:41:28, 248.34s/it]"
     ]
    },
    {
     "name": "stdout",
     "output_type": "stream",
     "text": [
      "[7.16881, -0.548792, -2.42185, -1.22506, -1.48539, -3.23247]\n",
      "sadness\n",
      "302.0 seconds\n",
      "sentence:  i left with my bouquet of red and yellow tulips under my arm feeling slightly more optimistic than when i arrived\n"
     ]
    },
    {
     "name": "stderr",
     "output_type": "stream",
     "text": [
      "  4%|▍         | 4/100 [17:07<7:24:35, 277.87s/it]"
     ]
    },
    {
     "name": "stdout",
     "output_type": "stream",
     "text": [
      "[-1.32978, 7.19757, -1.28755, -2.30547, -2.65798, -1.99757]\n",
      "joy\n",
      "312.0 seconds\n",
      "sentence:  i was feeling a little vain when i did this one\n"
     ]
    },
    {
     "name": "stderr",
     "output_type": "stream",
     "text": [
      "  5%|▌         | 5/100 [20:32<6:38:31, 251.70s/it]"
     ]
    },
    {
     "name": "stdout",
     "output_type": "stream",
     "text": [
      "[7.4375, -1.38149, -2.54775, -0.899281, -1.30445, -2.76028]\n",
      "sadness\n",
      "194.0 seconds\n",
      "sentence:  i cant walk into a shop anywhere where i do not feel uncomfortable\n"
     ]
    },
    {
     "name": "stderr",
     "output_type": "stream",
     "text": [
      "  6%|▌         | 6/100 [24:26<6:24:36, 245.50s/it]"
     ]
    },
    {
     "name": "stdout",
     "output_type": "stream",
     "text": [
      "[5.98414e+17, 2.16998e+18, 4.66027e+17, 6.22107e+16, -1.04661e+18, 1.42028e+18]\n",
      "222.0 seconds\n",
      "sentence:  i felt anger when at the end of a telephone call\n"
     ]
    },
    {
     "name": "stderr",
     "output_type": "stream",
     "text": [
      "  7%|▋         | 7/100 [27:52<6:00:26, 232.54s/it]"
     ]
    },
    {
     "name": "stdout",
     "output_type": "stream",
     "text": [
      "[1.04083, 1.56221, -2.13744, 3.93503, -1.79574, -3.38938]\n",
      "anger\n",
      "195.0 seconds\n",
      "sentence:  i explain why i clung to a relationship with a boy who was in many ways immature and uncommitted despite the excitement i should have been feeling for getting accepted into the masters program at the university of virginia\n"
     ]
    },
    {
     "name": "stderr",
     "output_type": "stream",
     "text": [
      "  8%|▊         | 8/100 [36:44<8:22:43, 327.86s/it]"
     ]
    },
    {
     "name": "stdout",
     "output_type": "stream",
     "text": [
      "[-6.03623e+17, 6.39171e+17, 6.43382e+17, -1.00103e+18, 9.88453e+17, 7.52438e+17]\n",
      "521.0 seconds\n",
      "sentence:  i like to have the same breathless feeling as a reader eager to see what will happen next\n"
     ]
    },
    {
     "name": "stderr",
     "output_type": "stream",
     "text": [
      "  9%|▉         | 9/100 [41:23<7:54:07, 312.61s/it]"
     ]
    },
    {
     "name": "stdout",
     "output_type": "stream",
     "text": [
      "[-1.035, 6.47309, -1.34773, -2.00204, -2.34493, -2.0739]\n",
      "joy\n",
      "267.0 seconds\n",
      "sentence:  i jest i feel grumpy tired and pre menstrual which i probably am but then again its only been a week and im about as fit as a walrus on vacation for the summer\n"
     ]
    },
    {
     "name": "stderr",
     "output_type": "stream",
     "text": [
      " 10%|█         | 10/100 [50:01<9:24:12, 376.13s/it]"
     ]
    },
    {
     "name": "stdout",
     "output_type": "stream",
     "text": [
      "[-8.38069e+17, -1.325e+18, -1.8557e+17, -4.09194e+18, -6.0822e+17, -1.8885e+18]\n",
      "507.0 seconds\n",
      "sentence:  i don t feel particularly agitated\n"
     ]
    },
    {
     "name": "stderr",
     "output_type": "stream",
     "text": [
      " 11%|█         | 11/100 [52:33<7:36:22, 307.67s/it]"
     ]
    },
    {
     "name": "stdout",
     "output_type": "stream",
     "text": [
      "[-0.314493, -2.14238, -1.92857, 6.22397, 1.74046, -2.85541]\n",
      "141.0 seconds\n",
      "sentence:  i feel beautifully emotional knowing that these women of whom i knew just a handful were holding me and my baba on our journey\n"
     ]
    },
    {
     "name": "stderr",
     "output_type": "stream",
     "text": [
      " 12%|█▏        | 12/100 [58:13<7:45:33, 317.43s/it]"
     ]
    },
    {
     "name": "stdout",
     "output_type": "stream",
     "text": [
      "[6.91657, -0.250843, -2.40145, -1.65822, -1.64519, -2.72615]\n",
      "sadness\n",
      "329.0 seconds\n",
      "sentence:  i pay attention it deepens into a feeling of being invaded and helpless\n"
     ]
    },
    {
     "name": "stderr",
     "output_type": "stream",
     "text": [
      " 13%|█▎        | 13/100 [1:02:09<7:04:33, 292.80s/it]"
     ]
    },
    {
     "name": "stdout",
     "output_type": "stream",
     "text": [
      "[5.26405, 0.0272226, -2.68824, -1.17814, -0.44621, -2.64789]\n",
      "225.0 seconds\n",
      "sentence:  i just feel extremely comfortable with the group of people that i dont even need to hide myself\n"
     ]
    },
    {
     "name": "stderr",
     "output_type": "stream",
     "text": [
      " 14%|█▍        | 14/100 [1:07:02<6:59:43, 292.84s/it]"
     ]
    },
    {
     "name": "stdout",
     "output_type": "stream",
     "text": [
      "[-1.16554, 7.06063, -1.42778, -2.29461, -2.46246, -2.17615]\n",
      "joy\n",
      "282.0 seconds\n",
      "sentence:  i find myself in the odd position of feeling supportive of\n"
     ]
    },
    {
     "name": "stderr",
     "output_type": "stream",
     "text": [
      " 15%|█▌        | 15/100 [1:10:30<6:18:24, 267.11s/it]"
     ]
    },
    {
     "name": "stdout",
     "output_type": "stream",
     "text": [
      "[-1.10884, 1.97657, 3.80421, -2.78037, -0.718601, -1.93759]\n",
      "love\n",
      "196.0 seconds\n",
      "sentence:  i was feeling as heartbroken as im sure katniss was\n"
     ]
    },
    {
     "name": "stderr",
     "output_type": "stream",
     "text": [
      " 16%|█▌        | 16/100 [1:14:17<5:57:18, 255.22s/it]"
     ]
    },
    {
     "name": "stdout",
     "output_type": "stream",
     "text": [
      "[7.45371, -1.41145, -2.51446, -1.01248, -1.25476, -2.68936]\n",
      "sadness\n",
      "216.0 seconds\n",
      "sentence:  i feel a little mellow today\n"
     ]
    },
    {
     "name": "stderr",
     "output_type": "stream",
     "text": [
      " 17%|█▋        | 17/100 [1:17:03<5:15:38, 228.18s/it]"
     ]
    },
    {
     "name": "stdout",
     "output_type": "stream",
     "text": [
      "[-9.30176e+17, 2.11552e+17, 8.63247e+17, 2.35035e+18, 4.64864e+18, 1.07308e+18]\n",
      "154.0 seconds\n",
      "sentence:  i feel like my only role now would be to tear your sails with my pessimism and discontent\n"
     ]
    },
    {
     "name": "stderr",
     "output_type": "stream",
     "text": [
      " 18%|█▊        | 18/100 [1:22:03<5:41:16, 249.71s/it]"
     ]
    },
    {
     "name": "stdout",
     "output_type": "stream",
     "text": [
      "[2.83487e+18, -7.46152e+17, -4.85457e+17, -2.34996e+17, 1.38613e+18, 2.13645e+17]\n",
      "sadness\n",
      "289.0 seconds\n",
      "sentence:  i feel just bcoz a fight we get mad to each other n u wanna make a publicity n let the world knows about our fight\n"
     ]
    },
    {
     "name": "stderr",
     "output_type": "stream",
     "text": [
      " 19%|█▉        | 19/100 [1:28:07<6:23:40, 284.20s/it]"
     ]
    },
    {
     "name": "stdout",
     "output_type": "stream",
     "text": [
      "[-1.28716, 0.0245453, -1.36779, 6.21648, -1.58722, -0.952417]\n",
      "anger\n",
      "354.0 seconds\n",
      "sentence:  i feel like reds and purples are just so rich and kind of perfect\n"
     ]
    },
    {
     "name": "stderr",
     "output_type": "stream",
     "text": [
      " 20%|██        | 20/100 [1:32:13<6:03:42, 272.78s/it]"
     ]
    },
    {
     "name": "stdout",
     "output_type": "stream",
     "text": [
      "[-1.3494, 7.33547, -1.3178, -2.30875, -2.72312, -2.11002]\n",
      "joy\n",
      "235.0 seconds\n",
      "sentence:  im not sure the feeling of loss will ever go away but it may dull to a sweet feeling of nostalgia at what i shared in this life with my dad and the luck i had to have a dad for years\n"
     ]
    },
    {
     "name": "stderr",
     "output_type": "stream",
     "text": [
      " 21%|██        | 21/100 [1:41:06<7:41:45, 350.70s/it]"
     ]
    },
    {
     "name": "stdout",
     "output_type": "stream",
     "text": [
      "[2.18878, 4.53597, -1.62089, -2.53713, -2.6239, -2.37275]\n",
      "521.0 seconds\n",
      "sentence:  i feel like ive gotten to know many of you through comments and emails and for that im appreciative and glad you are a part of this little space\n"
     ]
    },
    {
     "name": "stderr",
     "output_type": "stream",
     "text": [
      " 22%|██▏       | 22/100 [1:48:34<8:13:59, 379.99s/it]"
     ]
    },
    {
     "name": "stdout",
     "output_type": "stream",
     "text": [
      "[-0.78214, 6.64793, -1.56756, -2.18626, -2.5096, -1.98692]\n",
      "joy\n",
      "437.0 seconds\n",
      "sentence:  i survey my own posts over the last few years and only feel pleased with vague snippets of a few of them only feel that little bits of them capture what its like to be me or someone like me in dublin in the st century\n"
     ]
    },
    {
     "name": "stderr",
     "output_type": "stream",
     "text": [
      " 23%|██▎       | 23/100 [1:58:34<9:32:24, 446.03s/it]"
     ]
    },
    {
     "name": "stdout",
     "output_type": "stream",
     "text": [
      "[1.79889, 3.90141, -1.8167, -1.72477, -2.18364, -2.01507]\n",
      "joy\n",
      "589.0 seconds\n",
      "sentence:  i also tell you in hopes that anyone who is still feeling stigmatized or ashamed of their mental health issues will let go of the stigma let go of the shame\n"
     ]
    },
    {
     "name": "stderr",
     "output_type": "stream",
     "text": [
      " 24%|██▍       | 24/100 [2:05:50<9:21:09, 443.02s/it]"
     ]
    },
    {
     "name": "stdout",
     "output_type": "stream",
     "text": [
      "[6.30136, -0.0272789, -1.74194, -1.68913, -1.6701, -2.91985]\n",
      "sadness\n",
      "424.0 seconds\n",
      "sentence:  i don t feel guilty like i m not going to be able to cook for him\n"
     ]
    },
    {
     "name": "stderr",
     "output_type": "stream",
     "text": [
      " 25%|██▌       | 25/100 [2:10:13<8:06:23, 389.12s/it]"
     ]
    },
    {
     "name": "stdout",
     "output_type": "stream",
     "text": [
      "[7.16985, -0.892901, -2.40832, -0.924388, -1.50921, -2.98756]\n",
      "sadness\n",
      "252.0 seconds\n",
      "sentence:  i hate it when i feel fearful for absolutely no reason\n"
     ]
    },
    {
     "name": "stderr",
     "output_type": "stream",
     "text": [
      " 26%|██▌       | 26/100 [2:13:39<6:52:08, 334.17s/it]"
     ]
    },
    {
     "name": "stdout",
     "output_type": "stream",
     "text": [
      "[2.22195, -1.69777, -3.18138, 0.189774, 3.85535, -2.27892]\n",
      "fear\n",
      "195.0 seconds\n",
      "sentence:  i am feeling outraged it shows everywhere\n"
     ]
    },
    {
     "name": "stderr",
     "output_type": "stream",
     "text": [
      " 27%|██▋       | 27/100 [2:16:23<5:44:29, 283.15s/it]"
     ]
    },
    {
     "name": "stdout",
     "output_type": "stream",
     "text": [
      "[6.6757e+18, 3.20056e+17, 2.1181e+18, -2.0832e+18, -5.7324e+17, -2.23206e+18]\n",
      "153.0 seconds\n",
      "sentence:  i stole a book from one of my all time favorite authors and now i feel like a rotten person\n"
     ]
    },
    {
     "name": "stderr",
     "output_type": "stream",
     "text": [
      " 28%|██▊       | 28/100 [2:21:19<5:44:19, 286.94s/it]"
     ]
    },
    {
     "name": "stdout",
     "output_type": "stream",
     "text": [
      "[4.8256, 1.40173, -1.86895, -1.17002, -2.46521, -2.54119]\n",
      "sadness\n",
      "285.0 seconds\n",
      "sentence:  i do feel insecure sometimes but who doesnt\n"
     ]
    },
    {
     "name": "stderr",
     "output_type": "stream",
     "text": [
      " 29%|██▉       | 29/100 [2:24:32<5:06:14, 258.80s/it]"
     ]
    },
    {
     "name": "stdout",
     "output_type": "stream",
     "text": [
      "[-0.853765, -1.47401, -1.95939, -1.32642, 6.15215, -1.23953]\n",
      "fear\n",
      "182.0 seconds\n",
      "sentence:  i highly recommend visiting on a wednesday if youre able because its less crowded so you get to ask the farmers more questions without feeling rude for holding up a line\n"
     ]
    },
    {
     "name": "stderr",
     "output_type": "stream",
     "text": [
      " 30%|███       | 30/100 [2:31:44<6:02:21, 310.59s/it]"
     ]
    },
    {
     "name": "stdout",
     "output_type": "stream",
     "text": [
      "[2.56111, 1.8631, -2.26293, 1.81607, -1.28782, -4.32219]\n",
      "420.0 seconds\n",
      "sentence:  ive been missing him and feeling so restless at home thinking of him\n"
     ]
    },
    {
     "name": "stderr",
     "output_type": "stream",
     "text": [
      " 31%|███       | 31/100 [2:35:42<5:32:06, 288.79s/it]"
     ]
    },
    {
     "name": "stdout",
     "output_type": "stream",
     "text": [
      "[2.32645, -1.47718, -3.27924, -1.37431, 4.12128, -1.72277]\n",
      "fear\n",
      "227.0 seconds\n",
      "sentence:  i posted on my facebook page earlier this week ive been feeling a little grumpy and out of sorts the past few days\n"
     ]
    },
    {
     "name": "stderr",
     "output_type": "stream",
     "text": [
      " 32%|███▏      | 32/100 [2:41:47<5:53:25, 311.85s/it]"
     ]
    },
    {
     "name": "stdout",
     "output_type": "stream",
     "text": [
      "[5.04831, 1.17447, -2.60131, -0.627704, -1.61237, -3.2444]\n",
      "354.0 seconds\n",
      "sentence:  i start to feel emotional\n"
     ]
    },
    {
     "name": "stderr",
     "output_type": "stream",
     "text": [
      " 33%|███▎      | 33/100 [2:44:14<4:52:56, 262.34s/it]"
     ]
    },
    {
     "name": "stdout",
     "output_type": "stream",
     "text": [
      "[7.44036, -1.29083, -2.58648, -0.947677, -1.30557, -2.80717]\n",
      "sadness\n",
      "136.0 seconds\n",
      "sentence:  i feel so cold a href http irish\n"
     ]
    },
    {
     "name": "stderr",
     "output_type": "stream",
     "text": [
      " 34%|███▍      | 34/100 [2:47:21<4:23:35, 239.63s/it]"
     ]
    },
    {
     "name": "stdout",
     "output_type": "stream",
     "text": [
      "[-0.66256, -0.818263, -1.21873, 7.20306, -1.13053, -1.97128]\n",
      "anger\n",
      "176.0 seconds\n",
      "sentence:  i feel like i m defective or something for not having baby fever\n"
     ]
    },
    {
     "name": "stderr",
     "output_type": "stream",
     "text": [
      " 35%|███▌      | 35/100 [2:51:05<4:14:29, 234.92s/it]"
     ]
    },
    {
     "name": "stdout",
     "output_type": "stream",
     "text": [
      "[2.52877e+17, 2.44719e+18, -3.96531e+17, -5.32686e+17, -3.28535e+18, 1.90885e+18]\n",
      "213.0 seconds\n",
      "sentence:  i feel more virtuous than when i eat veggies dipped in hummus\n"
     ]
    },
    {
     "name": "stderr",
     "output_type": "stream",
     "text": [
      " 36%|███▌      | 36/100 [2:55:30<4:20:24, 244.13s/it]"
     ]
    },
    {
     "name": "stdout",
     "output_type": "stream",
     "text": [
      "[-1.37929, 7.21619, -1.4158, -2.1754, -2.63082, -1.99798]\n",
      "joy\n",
      "254.0 seconds\n",
      "sentence:  i feel very honoured to be included in a magzine which prioritises health and clean living so highly im curious do any of you read magazines concerned with health and clean lifestyles such as the green parent\n"
     ]
    },
    {
     "name": "stderr",
     "output_type": "stream",
     "text": [
      " 37%|███▋      | 37/100 [3:04:15<5:44:49, 328.40s/it]"
     ]
    },
    {
     "name": "stdout",
     "output_type": "stream",
     "text": [
      "[-0.658072, 5.73765, -1.0026, -2.1251, -2.64037, -1.2784]\n",
      "joy\n",
      "514.0 seconds\n",
      "sentence:  i spent the last two weeks of school feeling miserable\n"
     ]
    },
    {
     "name": "stderr",
     "output_type": "stream",
     "text": [
      " 38%|███▊      | 38/100 [3:07:30<4:57:59, 288.38s/it]"
     ]
    },
    {
     "name": "stdout",
     "output_type": "stream",
     "text": [
      "[-2.12265e+17, -3.86991e+17, 1.11081e+18, -2.92364e+18, 6.88933e+17, -9.53236e+17]\n",
      "184.0 seconds\n",
      "sentence:  im feeling very peaceful about our wedding again now after having\n"
     ]
    },
    {
     "name": "stderr",
     "output_type": "stream",
     "text": [
      " 39%|███▉      | 39/100 [3:12:25<4:55:05, 290.25s/it]"
     ]
    },
    {
     "name": "stdout",
     "output_type": "stream",
     "text": [
      "[-1.39747, 7.20366, -1.26355, -2.19632, -2.67125, -2.10156]\n",
      "joy\n",
      "284.0 seconds\n",
      "sentence:  i had been talking to coach claudia barcomb and coach ali boe for a long time and they both made me feel very welcomed at union\n"
     ]
    },
    {
     "name": "stderr",
     "output_type": "stream",
     "text": [
      " 40%|████      | 40/100 [3:18:40<5:15:44, 315.75s/it]"
     ]
    },
    {
     "name": "stdout",
     "output_type": "stream",
     "text": [
      "[-0.851886, 6.16386, -1.364, -1.64393, -2.41274, -2.10101]\n",
      "joy\n",
      "364.0 seconds\n",
      "sentence:  i feel if i completely hated things i d exercise my democratic right speak my mind in what ever ways possible and try to enact a change\n"
     ]
    },
    {
     "name": "stderr",
     "output_type": "stream",
     "text": [
      " 41%|████      | 41/100 [3:25:04<5:30:29, 336.09s/it]"
     ]
    },
    {
     "name": "stdout",
     "output_type": "stream",
     "text": [
      "[-1.22012e+18, 4.56466e+18, -7.5448e+17, -1.25807e+18, -3.94976e+17, -2.16836e+18]\n",
      "372.0 seconds\n",
      "sentence:  i feel humiliated embarrassed or foolish i will remember that others have felt the same way because of the same kinds of things and i will be kind and helpful and accepting\n"
     ]
    },
    {
     "name": "stderr",
     "output_type": "stream",
     "text": [
      " 42%|████▏     | 42/100 [3:32:22<5:54:27, 366.68s/it]"
     ]
    },
    {
     "name": "stdout",
     "output_type": "stream",
     "text": [
      "[7.40988, -1.12941, -2.5048, -1.01744, -1.44492, -2.89329]\n",
      "sadness\n",
      "427.0 seconds\n",
      "sentence:  i feel reassured that i am dealing with my diet in the right way and that all is good\n"
     ]
    },
    {
     "name": "stderr",
     "output_type": "stream",
     "text": [
      " 43%|████▎     | 43/100 [3:37:10<5:25:52, 343.03s/it]"
     ]
    },
    {
     "name": "stdout",
     "output_type": "stream",
     "text": [
      "[-1.2002, 7.21934, -1.43949, -2.25427, -2.65798, -2.12371]\n",
      "joy\n",
      "277.0 seconds\n",
      "sentence:  i feel i have to agree with her even though i can imagine some rather unpleasant possible cases\n"
     ]
    },
    {
     "name": "stderr",
     "output_type": "stream",
     "text": [
      " 44%|████▍     | 44/100 [3:41:42<5:00:26, 321.91s/it]"
     ]
    },
    {
     "name": "stdout",
     "output_type": "stream",
     "text": [
      "[6.97463, -0.319797, -2.38846, -1.31834, -1.50092, -3.27878]\n",
      "sadness\n",
      "261.0 seconds\n",
      "sentence:  im in such a happy mood today i feel almost delighted and i havent done anything different today then i normally have it is wonderful\n"
     ]
    },
    {
     "name": "stderr",
     "output_type": "stream",
     "text": [
      " 45%|████▌     | 45/100 [3:47:37<5:04:05, 331.74s/it]"
     ]
    },
    {
     "name": "stdout",
     "output_type": "stream",
     "text": [
      "[-1.27639, 7.1061, -1.3155, -2.32509, -2.61238, -1.98593]\n",
      "joy\n",
      "344.0 seconds\n",
      "sentence:  im feeling really out of place and irritated\n"
     ]
    },
    {
     "name": "stderr",
     "output_type": "stream",
     "text": [
      " 46%|████▌     | 46/100 [3:50:33<4:16:25, 284.91s/it]"
     ]
    },
    {
     "name": "stdout",
     "output_type": "stream",
     "text": [
      "[-6.815e+16, 2.90789e+18, 3.88192e+17, 2.95805e+18, 2.87776e+18, 2.19716e+18]\n",
      "anger\n",
      "164.0 seconds\n",
      "sentence:  i also know that i feel nothing than a friendly affection to them too\n"
     ]
    },
    {
     "name": "stderr",
     "output_type": "stream",
     "text": [
      " 47%|████▋     | 47/100 [3:54:27<3:58:09, 269.62s/it]"
     ]
    },
    {
     "name": "stdout",
     "output_type": "stream",
     "text": [
      "[-1.37929, 7.16352, -1.20597, -2.2148, -2.69627, -2.07986]\n",
      "joy\n",
      "223.0 seconds\n",
      "sentence:  i feel like i had a rather productive weekend and i cant always say that no matter how much i get done\n"
     ]
    },
    {
     "name": "stderr",
     "output_type": "stream",
     "text": [
      " 48%|████▊     | 48/100 [3:59:51<4:08:01, 286.18s/it]"
     ]
    },
    {
     "name": "stdout",
     "output_type": "stream",
     "text": [
      "[-1.21111, 7.29251, -1.40791, -2.2784, -2.66041, -2.24589]\n",
      "joy\n",
      "314.0 seconds\n",
      "sentence:  im feeling insecure at the moment\n"
     ]
    },
    {
     "name": "stderr",
     "output_type": "stream",
     "text": [
      " 49%|████▉     | 49/100 [4:02:37<3:32:29, 249.99s/it]"
     ]
    },
    {
     "name": "stdout",
     "output_type": "stream",
     "text": [
      "[-1.05081, -1.29704, -1.98546, -1.83649, 5.85548, -0.333634]\n",
      "fear\n",
      "155.0 seconds\n",
      "sentence:  i was feeling pretty anxious all day but my first day at work was a very good day and that helped a lot\n"
     ]
    },
    {
     "name": "stderr",
     "output_type": "stream",
     "text": [
      " 50%|█████     | 50/100 [4:08:03<3:47:24, 272.88s/it]"
     ]
    },
    {
     "name": "stdout",
     "output_type": "stream",
     "text": [
      "[0.757434, 1.84989, -2.70936, -2.94172, 2.04371, -0.785566]\n",
      "fear\n",
      "315.0 seconds\n",
      "sentence:  i stood up to you i finally stood up to you and now i feel like im being punished if i could go back and do it again\n"
     ]
    },
    {
     "name": "stderr",
     "output_type": "stream",
     "text": [
      " 51%|█████     | 51/100 [4:14:24<4:09:23, 305.38s/it]"
     ]
    },
    {
     "name": "stdout",
     "output_type": "stream",
     "text": [
      "[7.28703, -0.914385, -2.40111, -1.02967, -1.49939, -3.08102]\n",
      "sadness\n",
      "370.0 seconds\n",
      "sentence:  i feel a little nervous i go to the gym\n"
     ]
    },
    {
     "name": "stderr",
     "output_type": "stream",
     "text": [
      " 52%|█████▏    | 52/100 [4:17:38<3:37:28, 271.84s/it]"
     ]
    },
    {
     "name": "stdout",
     "output_type": "stream",
     "text": [
      "[2.92384e+18, -7.26384e+17, 4.5046e+18, 1.41265e+18, -2.85845e+18, -2.6957e+18]\n",
      "182.0 seconds\n",
      "sentence:  i feel like i could go into any situation and become successful because i ve been competing all my life explained schaub in an interview with the a href http bleacherreport\n"
     ]
    },
    {
     "name": "stderr",
     "output_type": "stream",
     "text": [
      " 53%|█████▎    | 53/100 [4:25:50<4:24:40, 337.88s/it]"
     ]
    },
    {
     "name": "stdout",
     "output_type": "stream",
     "text": [
      "[-1.06531, 5.70755, -2.09894, -1.66286, -1.97725, -2.08207]\n",
      "joy\n",
      "481.0 seconds\n",
      "sentence:  i can t stop the anxiety i feel when i m alone when i ve got no distractions\n"
     ]
    },
    {
     "name": "stderr",
     "output_type": "stream",
     "text": [
      " 54%|█████▍    | 54/100 [4:30:40<4:08:00, 323.49s/it]"
     ]
    },
    {
     "name": "stdout",
     "output_type": "stream",
     "text": [
      "[6.27795e+17, -5.6357e+17, -1.98972e+18, -2.23775e+18, -1.96907e+18, -3.39081e+17]\n",
      "sadness\n",
      "279.0 seconds\n",
      "sentence:  im trying to feel out my house style now that im living on my own and have creative carte blanche\n"
     ]
    },
    {
     "name": "stderr",
     "output_type": "stream",
     "text": [
      " 55%|█████▌    | 55/100 [4:35:45<3:58:23, 317.87s/it]"
     ]
    },
    {
     "name": "stdout",
     "output_type": "stream",
     "text": [
      "[-8.05224e+17, 2.92597e+18, 1.06651e+18, -8.03619e+17, -2.1725e+18, -1.35289e+17]\n",
      "joy\n",
      "294.0 seconds\n",
      "sentence:  i have tried to see what it would be like if i liked one of my girl friends but it has never really worked and i can only ever feel an emotional connection to them because they are my friends\n"
     ]
    },
    {
     "name": "stderr",
     "output_type": "stream",
     "text": [
      " 56%|█████▌    | 56/100 [4:44:20<4:36:34, 377.14s/it]"
     ]
    },
    {
     "name": "stdout",
     "output_type": "stream",
     "text": [
      "[2.53162, 0.289326, 2.66423, -0.777089, -3.18535, -2.08311]\n",
      "504.0 seconds\n",
      "sentence:  i had every intention of doing more gardening this morning while it was still cool but i was just feeling so rotten\n"
     ]
    },
    {
     "name": "stderr",
     "output_type": "stream",
     "text": [
      " 57%|█████▋    | 57/100 [4:49:39<4:17:43, 359.62s/it]"
     ]
    },
    {
     "name": "stdout",
     "output_type": "stream",
     "text": [
      "[-2.49762e+18, -9.06013e+17, 1.1364e+17, 6.93166e+17, -1.48806e+18, -1.9574e+18]\n",
      "307.0 seconds\n",
      "sentence:  i have a good feeling about this so i am excited\n"
     ]
    },
    {
     "name": "stderr",
     "output_type": "stream",
     "text": [
      " 58%|█████▊    | 58/100 [4:53:04<3:39:19, 313.33s/it]"
     ]
    },
    {
     "name": "stdout",
     "output_type": "stream",
     "text": [
      "[-1.35559, 7.31285, -1.33527, -2.28541, -2.69926, -2.11343]\n",
      "joy\n",
      "194.0 seconds\n",
      "sentence:  i feel like i am just starting to understand the blessings that come from being submissive to the will of the father\n"
     ]
    },
    {
     "name": "stderr",
     "output_type": "stream",
     "text": [
      " 59%|█████▉    | 59/100 [4:58:29<3:36:25, 316.71s/it]"
     ]
    },
    {
     "name": "stdout",
     "output_type": "stream",
     "text": [
      "[3.06724e+18, -9.76941e+17, -1.24083e+18, -2.34398e+18, -5.55005e+17, -3.36586e+18]\n",
      "sadness\n",
      "313.0 seconds\n",
      "sentence:  i think about the things ive said and the stuff i have done it makes me feel disgusted in myself when i should be making you happy and smile which i was far from doing\n"
     ]
    },
    {
     "name": "stderr",
     "output_type": "stream",
     "text": [
      " 60%|██████    | 60/100 [5:06:19<4:01:49, 362.75s/it]"
     ]
    },
    {
     "name": "stdout",
     "output_type": "stream",
     "text": [
      "[-0.662853, 1.55278, -1.62032, 4.64467, -1.96998, -1.87204]\n",
      "anger\n",
      "459.0 seconds\n",
      "sentence:  i woke up yesterday monday morning feeling a little depressed\n"
     ]
    },
    {
     "name": "stderr",
     "output_type": "stream",
     "text": [
      " 61%|██████    | 61/100 [5:09:33<3:22:51, 312.09s/it]"
     ]
    },
    {
     "name": "stdout",
     "output_type": "stream",
     "text": [
      "[7.2966, -0.929929, -2.5949, -1.33982, -1.05216, -3.11798]\n",
      "sadness\n",
      "183.0 seconds\n",
      "sentence:  i feel so embarrassed\n"
     ]
    },
    {
     "name": "stderr",
     "output_type": "stream",
     "text": [
      " 62%|██████▏   | 62/100 [5:11:47<2:43:45, 258.58s/it]"
     ]
    },
    {
     "name": "stdout",
     "output_type": "stream",
     "text": [
      "[1.89061e+18, 1.81975e+17, -6.92939e+17, 5.16411e+17, 2.05236e+18, -1.33168e+18]\n",
      "123.0 seconds\n",
      "sentence:  i spent wandering around still kinda dazed and not feeling particularly sociable but because id been in hiding for a couple for days and it was getting to be a little unhealthy i made myself go down to the cross and hang out with folks\n"
     ]
    },
    {
     "name": "stderr",
     "output_type": "stream",
     "text": [
      " 63%|██████▎   | 63/100 [5:22:03<3:45:39, 365.94s/it]"
     ]
    },
    {
     "name": "stdout",
     "output_type": "stream",
     "text": [
      "[-1.5361, 2.83688, -1.77887, -0.938597, -1.90494, 3.42868]\n",
      "605.0 seconds\n",
      "sentence:  i can honestly say that after each sistahs chat i feel invigorated and blessed\n"
     ]
    },
    {
     "name": "stderr",
     "output_type": "stream",
     "text": [
      " 64%|██████▍   | 64/100 [5:26:45<3:24:29, 340.83s/it]"
     ]
    },
    {
     "name": "stdout",
     "output_type": "stream",
     "text": [
      "[-0.991531, 7.11016, -1.37821, -2.45965, -2.62382, -2.13838]\n",
      "joy\n",
      "271.0 seconds\n",
      "sentence:  i still feel stupid to be in that class this is all cause off pbss fault\n"
     ]
    },
    {
     "name": "stderr",
     "output_type": "stream",
     "text": [
      " 65%|██████▌   | 65/100 [5:31:13<3:06:03, 318.94s/it]"
     ]
    },
    {
     "name": "stdout",
     "output_type": "stream",
     "text": [
      "[7.4536, -1.34819, -2.65969, -0.835053, -1.22643, -2.86316]\n",
      "sadness\n",
      "257.0 seconds\n",
      "sentence:  i feel a little stunned but can t imagine what the folks who were working in the studio up until this morning are feeling\n"
     ]
    },
    {
     "name": "stderr",
     "output_type": "stream",
     "text": [
      " 66%|██████▌   | 66/100 [5:36:56<3:04:53, 326.27s/it]"
     ]
    },
    {
     "name": "stdout",
     "output_type": "stream",
     "text": [
      "[-1.24238e+18, -7.02926e+17, 7916110000000000.0, 2.1673e+18, 1.08212e+18, 1.73471e+18]\n",
      "332.0 seconds\n",
      "sentence:  i admit im feeling a little bit unloved at this point\n"
     ]
    },
    {
     "name": "stderr",
     "output_type": "stream",
     "text": [
      " 67%|██████▋   | 67/100 [5:40:39<2:42:23, 295.25s/it]"
     ]
    },
    {
     "name": "stdout",
     "output_type": "stream",
     "text": [
      "[7.23681, -1.33365, -2.8601, -0.687275, -1.05788, -2.74219]\n",
      "sadness\n",
      "212.0 seconds\n",
      "sentence:  i feel a bit stressed even though all the things i have going on are fun\n"
     ]
    },
    {
     "name": "stderr",
     "output_type": "stream",
     "text": [
      " 68%|██████▊   | 68/100 [5:45:01<2:32:02, 285.07s/it]"
     ]
    },
    {
     "name": "stdout",
     "output_type": "stream",
     "text": [
      "[6.62293, -0.772695, -3.15292, 0.589405, -1.20262, -3.56709]\n",
      "250.0 seconds\n",
      "sentence:  im feeling pretty anxious\n"
     ]
    },
    {
     "name": "stderr",
     "output_type": "stream",
     "text": [
      " 69%|██████▉   | 69/100 [5:47:14<2:03:42, 239.43s/it]"
     ]
    },
    {
     "name": "stdout",
     "output_type": "stream",
     "text": [
      "[3.53325e+18, 1.47729e+18, 9.97194e+17, -8247880000000000.0, 9.02418e+17, 2.51184e+18]\n",
      "122.0 seconds\n",
      "sentence:  i feel shocked and sad at the fact that there are so many sick people\n"
     ]
    },
    {
     "name": "stderr",
     "output_type": "stream",
     "text": [
      " 70%|███████   | 70/100 [5:51:16<2:00:09, 240.32s/it]"
     ]
    },
    {
     "name": "stdout",
     "output_type": "stream",
     "text": [
      "[-1.66453, -0.629851, -0.368963, -2.33151, 0.147644, 6.63078]\n",
      "surprise\n",
      "231.0 seconds\n",
      "sentence:  i think they have always been proponents of the idea and it is just slightly possible that his feelings for a particularly charming new england girl have brought him around to their way of thinking\n"
     ]
    },
    {
     "name": "stderr",
     "output_type": "stream",
     "text": [
      " 71%|███████   | 71/100 [5:59:04<2:29:11, 308.68s/it]"
     ]
    },
    {
     "name": "stdout",
     "output_type": "stream",
     "text": [
      "[-0.581635, 5.9736, -1.27069, -1.70214, -2.58209, -1.98717]\n",
      "joy\n",
      "457.0 seconds\n",
      "sentence:  i feel like a naughty school girl because i am falling behind\n"
     ]
    },
    {
     "name": "stderr",
     "output_type": "stream",
     "text": [
      " 72%|███████▏  | 72/100 [6:02:40<2:11:02, 280.80s/it]"
     ]
    },
    {
     "name": "stdout",
     "output_type": "stream",
     "text": [
      "[-9.70901e+17, -1.60324e+18, -8.65004e+16, -1.59637e+18, -2.47104e+18, 1.25797e+18]\n",
      "205.0 seconds\n",
      "sentence:  i am right handed however i play billiards left handed naturally so me trying to play right handed feels weird\n"
     ]
    },
    {
     "name": "stderr",
     "output_type": "stream",
     "text": [
      " 73%|███████▎  | 73/100 [6:07:55<2:11:00, 291.12s/it]"
     ]
    },
    {
     "name": "stdout",
     "output_type": "stream",
     "text": [
      "[-2.66812, 0.966386, -1.1132, 0.120142, 0.669871, 2.3993]\n",
      "surprise\n",
      "304.0 seconds\n",
      "sentence:  i can feel that they are kind friendly and can understand my feelings\n"
     ]
    },
    {
     "name": "stderr",
     "output_type": "stream",
     "text": [
      " 74%|███████▍  | 74/100 [6:11:39<1:57:26, 271.03s/it]"
     ]
    },
    {
     "name": "stdout",
     "output_type": "stream",
     "text": [
      "[-1.28855, 7.22323, -1.40422, -2.23028, -2.62948, -2.16002]\n",
      "joy\n",
      "213.0 seconds\n",
      "sentence:  i were to go overseas or cross the border then i become a foreigner and will feel that way but never in my beloved land\n"
     ]
    },
    {
     "name": "stderr",
     "output_type": "stream",
     "text": [
      " 75%|███████▌  | 75/100 [6:17:28<2:02:37, 294.31s/it]"
     ]
    },
    {
     "name": "stdout",
     "output_type": "stream",
     "text": [
      "[-6.07366e+16, 1.63524e+18, 3.95711e+18, -2.3071e+18, 2.14339e+18, 5.98522e+17]\n",
      "love\n",
      "337.0 seconds\n",
      "sentence:  i feel disgusted in any man in power who talks about electricity being a problem in his area and says even my own house has similar problems\n"
     ]
    },
    {
     "name": "stderr",
     "output_type": "stream",
     "text": [
      " 76%|███████▌  | 76/100 [6:23:32<2:06:02, 315.11s/it]"
     ]
    },
    {
     "name": "stdout",
     "output_type": "stream",
     "text": [
      "[-0.823836, -0.878056, -1.28656, 6.75847, -0.991082, -1.60064]\n",
      "anger\n",
      "352.0 seconds\n",
      "sentence:  i feel transcendant and splendid\n"
     ]
    },
    {
     "name": "stderr",
     "output_type": "stream",
     "text": [
      " 77%|███████▋  | 77/100 [6:26:14<1:43:14, 269.31s/it]"
     ]
    },
    {
     "name": "stdout",
     "output_type": "stream",
     "text": [
      "[-1.1796, 7.20754, -1.34526, -2.34518, -2.69471, -2.1026]\n",
      "joy\n",
      "151.0 seconds\n",
      "sentence:  i finally arrived home a couple of hours later feeling somewhat exhausted dehydrated and even sun burnt\n"
     ]
    },
    {
     "name": "stderr",
     "output_type": "stream",
     "text": [
      " 78%|███████▊  | 78/100 [6:31:15<1:42:16, 278.95s/it]"
     ]
    },
    {
     "name": "stdout",
     "output_type": "stream",
     "text": [
      "[7.09344, -0.797191, -2.57881, -1.13791, -1.2966, -2.91767]\n",
      "sadness\n",
      "290.0 seconds\n",
      "sentence:  i am feeling totally relaxed and comfy\n"
     ]
    },
    {
     "name": "stderr",
     "output_type": "stream",
     "text": [
      " 79%|███████▉  | 79/100 [6:34:10<1:26:39, 247.62s/it]"
     ]
    },
    {
     "name": "stdout",
     "output_type": "stream",
     "text": [
      "[-1.27613, 7.30152, -1.36881, -2.316, -2.70086, -2.11155]\n",
      "joy\n",
      "163.0 seconds\n",
      "sentence:  i want each of you to feel my gentle embrace\n"
     ]
    },
    {
     "name": "stderr",
     "output_type": "stream",
     "text": [
      " 80%|████████  | 80/100 [6:37:24<1:17:13, 231.66s/it]"
     ]
    },
    {
     "name": "stdout",
     "output_type": "stream",
     "text": [
      "[-2.23859, 0.0801619, 6.51988, -1.67379, -1.34968, -1.24294]\n",
      "love\n",
      "183.0 seconds\n",
      "sentence:  i feel privileged in my world\n"
     ]
    },
    {
     "name": "stderr",
     "output_type": "stream",
     "text": [
      " 81%|████████  | 81/100 [6:39:56<1:05:44, 207.62s/it]"
     ]
    },
    {
     "name": "stdout",
     "output_type": "stream",
     "text": [
      "[6.18622e+17, -1.82523e+18, -1.06614e+18, 4.69075e+17, 1.11712e+17, -3.94447e+17]\n",
      "140.0 seconds\n",
      "sentence:  i am not a people person but for some fuckin reason people feel that they can come bore me with their fuckin petty garbage\n"
     ]
    },
    {
     "name": "stderr",
     "output_type": "stream",
     "text": [
      " 82%|████████▏ | 82/100 [6:45:49<1:15:25, 251.39s/it]"
     ]
    },
    {
     "name": "stdout",
     "output_type": "stream",
     "text": [
      "[-0.56439, -1.21524, -1.28884, 7.08034, -0.774398, -2.00182]\n",
      "anger\n",
      "342.0 seconds\n",
      "sentence:  i realized my mistake and i m really feeling terrible and thinking that i shouldn t do that\n"
     ]
    },
    {
     "name": "stderr",
     "output_type": "stream",
     "text": [
      " 83%|████████▎ | 83/100 [6:50:25<1:13:18, 258.71s/it]"
     ]
    },
    {
     "name": "stdout",
     "output_type": "stream",
     "text": [
      "[7.41501, -1.389, -2.63617, -0.848784, -1.2522, -2.69344]\n",
      "sadness\n",
      "264.0 seconds\n",
      "sentence:  i suppose i feel too trusting sometimes\n"
     ]
    },
    {
     "name": "stderr",
     "output_type": "stream",
     "text": [
      " 84%|████████▍ | 84/100 [6:53:10<1:01:29, 230.62s/it]"
     ]
    },
    {
     "name": "stdout",
     "output_type": "stream",
     "text": [
      "[-1.15718, 7.15902, -1.46662, -2.27576, -2.54543, -2.22474]\n",
      "joy\n",
      "154.0 seconds\n",
      "sentence:  i came home waiting for the shower read something which made me upset thats why i feel discontent haha\n"
     ]
    },
    {
     "name": "stderr",
     "output_type": "stream",
     "text": [
      " 85%|████████▌ | 85/100 [6:58:21<1:03:37, 254.52s/it]"
     ]
    },
    {
     "name": "stdout",
     "output_type": "stream",
     "text": [
      "[6.43741, 0.230429, -2.57137, -0.81994, -1.77908, -3.2906]\n",
      "sadness\n",
      "299.0 seconds\n",
      "sentence:  i woke up feeling crappy tired and fighting this feeling all day maybe it is all the pollen the barometric pressure i dont know i know i was off kilter\n"
     ]
    },
    {
     "name": "stderr",
     "output_type": "stream",
     "text": [
      " 86%|████████▌ | 86/100 [7:05:52<1:13:11, 313.71s/it]"
     ]
    },
    {
     "name": "stdout",
     "output_type": "stream",
     "text": [
      "[6.29034, 0.443942, -2.70547, -1.60051, -1.36942, -2.91875]\n",
      "sadness\n",
      "441.0 seconds\n",
      "sentence:  i feel like i am in paradise kissing those sweet lips make me feel like i dive into a magical world of love\n"
     ]
    },
    {
     "name": "stderr",
     "output_type": "stream",
     "text": [
      " 87%|████████▋ | 87/100 [7:11:18<1:08:45, 317.35s/it]"
     ]
    },
    {
     "name": "stdout",
     "output_type": "stream",
     "text": [
      "[-1.55319, 5.69957, 0.975433, -2.13845, -2.96506, -1.7749]\n",
      "joy\n",
      "315.0 seconds\n",
      "sentence:  i am feeling so happy\n"
     ]
    },
    {
     "name": "stderr",
     "output_type": "stream",
     "text": [
      " 88%|████████▊ | 88/100 [7:13:43<53:08, 265.71s/it]  "
     ]
    },
    {
     "name": "stdout",
     "output_type": "stream",
     "text": [
      "[-0.845868, 7.09679, -1.59828, -2.42865, -2.52131, -2.25061]\n",
      "joy\n",
      "134.0 seconds\n",
      "sentence:  i am running at an approximate minute pace which i feel is quite acceptable\n"
     ]
    },
    {
     "name": "stderr",
     "output_type": "stream",
     "text": [
      " 89%|████████▉ | 89/100 [7:17:37<46:55, 255.99s/it]"
     ]
    },
    {
     "name": "stdout",
     "output_type": "stream",
     "text": [
      "[-0.702567, 7.00427, -1.66901, -2.45697, -2.40282, -2.3458]\n",
      "joy\n",
      "222.0 seconds\n",
      "sentence:  i feel so disappointed when my ex girlfriend doesn t call me back\n"
     ]
    },
    {
     "name": "stderr",
     "output_type": "stream",
     "text": [
      " 90%|█████████ | 90/100 [7:21:27<41:22, 248.28s/it]"
     ]
    },
    {
     "name": "stdout",
     "output_type": "stream",
     "text": [
      "[7.2543, -1.04038, -2.65663, -0.677052, -1.37387, -2.9964]\n",
      "sadness\n",
      "219.0 seconds\n",
      "sentence:  i have a feeling that people are using it more than they need to and enjoying the feeling as it flies carefree off the tongue but that is alright with me\n"
     ]
    },
    {
     "name": "stderr",
     "output_type": "stream",
     "text": [
      " 91%|█████████ | 91/100 [7:28:35<45:20, 302.31s/it]"
     ]
    },
    {
     "name": "stdout",
     "output_type": "stream",
     "text": [
      "[-1.37241, 6.12555, -0.648832, -1.75294, -2.28163, -2.16557]\n",
      "joy\n",
      "417.0 seconds\n",
      "sentence:  i am feeling uncertain of the merits of posting to this blog with the frequency or earnestness i had been over the previous year\n"
     ]
    },
    {
     "name": "stderr",
     "output_type": "stream",
     "text": [
      " 92%|█████████▏| 92/100 [7:34:24<42:09, 316.18s/it]"
     ]
    },
    {
     "name": "stdout",
     "output_type": "stream",
     "text": [
      "[1.63061, 2.85023, -3.32177, -1.80742, 0.732326, -2.09671]\n",
      "337.0 seconds\n",
      "sentence:  i just plain feel envious of the self confidence they had\n"
     ]
    },
    {
     "name": "stderr",
     "output_type": "stream",
     "text": [
      " 93%|█████████▎| 93/100 [7:38:01<33:25, 286.45s/it]"
     ]
    },
    {
     "name": "stdout",
     "output_type": "stream",
     "text": [
      "[1.08784e+18, -1.77547e+18, -8.74751e+17, -1.35136e+18, 1.34834e+18, 7.34675e+17]\n",
      "206.0 seconds\n",
      "sentence:  i was feeling weird the other day and it went away about minutes after i took my metformin\n"
     ]
    },
    {
     "name": "stderr",
     "output_type": "stream",
     "text": [
      " 94%|█████████▍| 94/100 [7:42:55<28:51, 288.65s/it]"
     ]
    },
    {
     "name": "stdout",
     "output_type": "stream",
     "text": [
      "[-1.22748, -1.22578, -1.49389, -2.47374, 2.21147, 5.2541]\n",
      "283.0 seconds\n",
      "sentence:  when a friend dropped a frog down my neck\n"
     ]
    },
    {
     "name": "stderr",
     "output_type": "stream",
     "text": [
      " 95%|█████████▌| 95/100 [7:46:01<21:30, 258.06s/it]"
     ]
    },
    {
     "name": "stdout",
     "output_type": "stream",
     "text": [
      "[4.04626, -0.938955, -2.7526, 0.2487, 1.72388, -4.05631]\n",
      "176.0 seconds\n",
      "sentence:  im feeling angry at someone i do something thoughtful for her and my feelings toward her soften\n"
     ]
    },
    {
     "name": "stderr",
     "output_type": "stream",
     "text": [
      " 96%|█████████▌| 96/100 [7:50:40<17:37, 264.32s/it]"
     ]
    },
    {
     "name": "stdout",
     "output_type": "stream",
     "text": [
      "[-1.14488, 0.376002, -1.45193, 5.12855, -1.5537, -0.602816]\n",
      "anger\n",
      "268.0 seconds\n",
      "sentence:  i love neglecting this blog but sometimes i feel for my faithful readers\n"
     ]
    },
    {
     "name": "stderr",
     "output_type": "stream",
     "text": [
      " 97%|█████████▋| 97/100 [7:54:37<12:48, 256.08s/it]"
     ]
    },
    {
     "name": "stdout",
     "output_type": "stream",
     "text": [
      "[2.2334e+17, -5.68523e+17, -1.28876e+18, 6.77874e+17, -8.0979e+17, 4.58484e+17]\n",
      "226.0 seconds\n",
      "sentence:  i lay in bed feeling as though i were awaiting an unwelcome visitor nevertheless i told myself i was strong and thought of good things until i felt better\n"
     ]
    },
    {
     "name": "stderr",
     "output_type": "stream",
     "text": [
      " 98%|█████████▊| 98/100 [8:01:50<10:18, 309.06s/it]"
     ]
    },
    {
     "name": "stdout",
     "output_type": "stream",
     "text": [
      "[-1.27504e+18, 7.13502e+17, 6.80143e+17, 7.75254e+17, 6.31763e+17, -7.5007e+17]\n",
      "421.0 seconds\n",
      "sentence:  i feel my heart is tortured by what i have done\n"
     ]
    },
    {
     "name": "stderr",
     "output_type": "stream",
     "text": [
      " 99%|█████████▉| 99/100 [8:05:16<04:38, 278.22s/it]"
     ]
    },
    {
     "name": "stdout",
     "output_type": "stream",
     "text": [
      "[-0.946199, -2.40722, -1.43938, 6.57572, 1.45713, -2.11999]\n",
      "anger\n",
      "195.0 seconds\n",
      "sentence:  i was still feeling weepy and strung out so maggie treated me to ice cream and a movie a href http www\n"
     ]
    },
    {
     "name": "stderr",
     "output_type": "stream",
     "text": [
      "100%|██████████| 100/100 [8:10:52<00:00, 294.52s/it]"
     ]
    },
    {
     "name": "stdout",
     "output_type": "stream",
     "text": [
      "[6.8897, -1.04467, -1.98645, -1.33196, -1.39794, -2.52933]\n",
      "sadness\n",
      "324.0 seconds\n"
     ]
    },
    {
     "name": "stderr",
     "output_type": "stream",
     "text": [
      "\n"
     ]
    }
   ],
   "source": [
    "from tqdm import tqdm\n",
    "\n",
    "# top 100\n",
    "for i in tqdm(range(100)):\n",
    "    run_fhe_bert_tiny(dataset[i])\n",
    "    count+=1"
   ]
  },
  {
   "cell_type": "code",
   "execution_count": 4,
   "metadata": {},
   "outputs": [
    {
     "name": "stdout",
     "output_type": "stream",
     "text": [
      "71\n",
      "[0, 1, 2, 3, 4, 6, 8, 11, 13, 14, 15, 17, 18, 19, 21, 22, 23, 24, 25, 27, 28, 30, 32, 33, 35, 36, 38, 39, 41, 42, 43, 44, 45, 46, 47, 48, 49, 50, 52, 53, 54, 57, 58, 59, 60, 63, 64, 66, 69, 70, 72, 73, 74, 75, 76, 77, 78, 79, 81, 82, 83, 84, 85, 86, 87, 88, 89, 90, 95, 98, 99]\n",
      "29\n",
      "[5, 7, 9, 10, 12, 16, 20, 26, 29, 31, 34, 37, 40, 51, 55, 56, 61, 62, 65, 67, 68, 71, 80, 91, 92, 93, 94, 96, 97]\n"
     ]
    }
   ],
   "source": [
    "print(len(correct))\n",
    "print(correct)\n",
    "print(len(error))\n",
    "print(error)"
   ]
  },
  {
   "cell_type": "code",
   "execution_count": 5,
   "metadata": {},
   "outputs": [
    {
     "name": "stderr",
     "output_type": "stream",
     "text": [
      "  0%|          | 0/100 [00:00<?, ?it/s]"
     ]
    },
    {
     "name": "stdout",
     "output_type": "stream",
     "text": [
      "sentence:  i feel needy but comfortable with it i feel vulnerable but secure i feel the urge to cum hard but i get no relief\n"
     ]
    },
    {
     "name": "stderr",
     "output_type": "stream",
     "text": [
      "  1%|          | 1/100 [05:36<9:14:34, 336.11s/it]"
     ]
    },
    {
     "name": "stdout",
     "output_type": "stream",
     "text": [
      "[6.55644, 0.47117, -2.05698, -2.0284, -1.55751, -3.29865]\n",
      "sadness\n",
      "325.0 seconds\n",
      "sentence:  i journaled about my tendency to sometimes overcommit myself which can make me feel exhausted and overwhelmed\n"
     ]
    },
    {
     "name": "stderr",
     "output_type": "stream",
     "text": [
      "  2%|▏         | 2/100 [10:34<8:33:04, 314.13s/it]"
     ]
    },
    {
     "name": "stdout",
     "output_type": "stream",
     "text": [
      "[4.5698, 0.253691, -3.06817, -2.20553, 0.29708, -1.48973]\n",
      "sadness\n",
      "287.0 seconds\n",
      "sentence:  i started out feeling discouraged this morning\n"
     ]
    },
    {
     "name": "stderr",
     "output_type": "stream",
     "text": [
      "  3%|▎         | 3/100 [13:17<6:36:12, 245.08s/it]"
     ]
    },
    {
     "name": "stdout",
     "output_type": "stream",
     "text": [
      "[7.45327, -1.3938, -2.69874, -0.812614, -1.09622, -2.95947]\n",
      "sadness\n",
      "152.0 seconds\n",
      "sentence:  i feel agitated with myself that i did not foresee her frustrations earlier leading to the ending of our relationship\n"
     ]
    },
    {
     "name": "stderr",
     "output_type": "stream",
     "text": [
      "  4%|▍         | 4/100 [18:35<7:18:11, 273.87s/it]"
     ]
    },
    {
     "name": "stdout",
     "output_type": "stream",
     "text": [
      "[0.541069, -1.05361, -2.29597, 5.85424, 0.59305, -3.16934]\n",
      "307.0 seconds\n",
      "sentence:  i grab it from the air its smooth frame feels cold to the touch\n"
     ]
    },
    {
     "name": "stderr",
     "output_type": "stream",
     "text": [
      "  5%|▌         | 5/100 [22:31<6:51:40, 260.00s/it]"
     ]
    },
    {
     "name": "stdout",
     "output_type": "stream",
     "text": [
      "[-1.24943, 0.530739, -1.60354, 6.27852, -1.34971, -1.84805]\n",
      "anger\n",
      "224.0 seconds\n",
      "sentence:  i was angry at my boyfriend who had promised to come to see me but did not because he spent the evening with his pals\n"
     ]
    },
    {
     "name": "stderr",
     "output_type": "stream",
     "text": [
      "  6%|▌         | 6/100 [28:27<7:38:26, 292.62s/it]"
     ]
    },
    {
     "name": "stdout",
     "output_type": "stream",
     "text": [
      "[2.25338, 0.314185, -1.92154, 3.94817, -1.7914, -3.39639]\n",
      "anger\n",
      "345.0 seconds\n",
      "sentence:  i hate that i m sitting here at the hostel writing this and feeling so perfectly fine and than i get home and it s me and my problems and a wall\n"
     ]
    },
    {
     "name": "stderr",
     "output_type": "stream",
     "text": [
      "  7%|▋         | 7/100 [35:39<8:44:26, 338.35s/it]"
     ]
    },
    {
     "name": "stdout",
     "output_type": "stream",
     "text": [
      "[-0.843374, 6.80735, -1.57353, -2.34107, -2.3879, -2.12401]\n",
      "joy\n",
      "421.0 seconds\n",
      "sentence:  i do exercise i feel energetic and i am able to perform my other tasks in a very good manner\n"
     ]
    },
    {
     "name": "stderr",
     "output_type": "stream",
     "text": [
      "  8%|▊         | 8/100 [40:36<8:18:37, 325.19s/it]"
     ]
    },
    {
     "name": "stdout",
     "output_type": "stream",
     "text": [
      "[-1.33487, 7.25073, -1.41268, -2.19592, -2.6262, -2.12349]\n",
      "joy\n",
      "286.0 seconds\n",
      "sentence:  i looked at mabel this morning i named my left breast mabel my right one is hazel and i feel this weird mixture of anger and loss valerie wrote less than a month after her diagnosis\n"
     ]
    },
    {
     "name": "stderr",
     "output_type": "stream",
     "text": [
      "  9%|▉         | 9/100 [48:25<9:21:26, 370.18s/it]"
     ]
    },
    {
     "name": "stdout",
     "output_type": "stream",
     "text": [
      "[1.01554, 1.69711, -0.279775, -1.46174, -0.550893, -1.69626]\n",
      "458.0 seconds\n",
      "sentence:  im feeling pretty disheartened by the whole thing\n"
     ]
    },
    {
     "name": "stderr",
     "output_type": "stream",
     "text": [
      " 10%|█         | 10/100 [51:54<8:00:22, 320.25s/it]"
     ]
    },
    {
     "name": "stdout",
     "output_type": "stream",
     "text": [
      "[7.44672, -1.28329, -2.67977, -0.944514, -1.15651, -2.94135]\n",
      "sadness\n",
      "197.0 seconds\n",
      "sentence:  i feel that an input from me will be valued as being less potent than say that of irfan pathan\n"
     ]
    },
    {
     "name": "stderr",
     "output_type": "stream",
     "text": [
      " 11%|█         | 11/100 [57:15<7:55:25, 320.51s/it]"
     ]
    },
    {
     "name": "stdout",
     "output_type": "stream",
     "text": [
      "[-1.26631, 7.13468, -1.51934, -2.00625, -2.58917, -2.22078]\n",
      "joy\n",
      "310.0 seconds\n",
      "sentence:  i feel is he generous\n"
     ]
    },
    {
     "name": "stderr",
     "output_type": "stream",
     "text": [
      " 12%|█▏        | 12/100 [59:42<6:32:53, 267.88s/it]"
     ]
    },
    {
     "name": "stdout",
     "output_type": "stream",
     "text": [
      "[-1.59179, 6.33919, 1.12546, -2.68925, -3.14301, -2.28409]\n",
      "136.0 seconds\n",
      "sentence:  i even feel a little shaky\n"
     ]
    },
    {
     "name": "stderr",
     "output_type": "stream",
     "text": [
      " 13%|█▎        | 13/100 [1:02:17<5:38:50, 233.69s/it]"
     ]
    },
    {
     "name": "stdout",
     "output_type": "stream",
     "text": [
      "[-0.610565, -1.92667, -2.25336, -1.73581, 6.68328, -0.760148]\n",
      "fear\n",
      "144.0 seconds\n",
      "sentence:  i am feeling better though i dont sound it\n"
     ]
    },
    {
     "name": "stderr",
     "output_type": "stream",
     "text": [
      " 14%|█▍        | 14/100 [1:05:33<5:18:31, 222.23s/it]"
     ]
    },
    {
     "name": "stdout",
     "output_type": "stream",
     "text": [
      "[-1.1382, 7.23906, -1.4702, -2.29414, -2.61254, -2.25212]\n",
      "joy\n",
      "184.0 seconds\n",
      "sentence:  i always feel troubled when we re on the road touring living in a van or more recently in the circus buses no place to hang my hat as the song lyric has it\n"
     ]
    },
    {
     "name": "stderr",
     "output_type": "stream",
     "text": [
      " 15%|█▌        | 15/100 [1:13:11<6:55:17, 293.15s/it]"
     ]
    },
    {
     "name": "stdout",
     "output_type": "stream",
     "text": [
      "[7.11721, -0.692191, -2.41464, -1.19598, -1.6002, -2.84081]\n",
      "sadness\n",
      "447.0 seconds\n",
      "sentence:  i feel our world then was a much more innocent place\n"
     ]
    },
    {
     "name": "stderr",
     "output_type": "stream",
     "text": [
      " 16%|█▌        | 16/100 [1:16:39<6:14:37, 267.59s/it]"
     ]
    },
    {
     "name": "stdout",
     "output_type": "stream",
     "text": [
      "[-1.39163, 7.33775, -1.3212, -2.21713, -2.74201, -2.11482]\n",
      "joy\n",
      "197.0 seconds\n",
      "sentence:  i feel thoroughly virtuous even if the daily trip to the compost bin isn t the most pleasant experience\n"
     ]
    },
    {
     "name": "stderr",
     "output_type": "stream",
     "text": [
      " 17%|█▋        | 17/100 [1:21:59<6:32:02, 283.40s/it]"
     ]
    },
    {
     "name": "stdout",
     "output_type": "stream",
     "text": [
      "[-1.29857, 7.33054, -1.37018, -2.31879, -2.70511, -2.12181]\n",
      "joy\n",
      "309.0 seconds\n",
      "sentence:  im not feeling anything suspicious really\n"
     ]
    },
    {
     "name": "stderr",
     "output_type": "stream",
     "text": [
      " 18%|█▊        | 18/100 [1:24:37<5:35:55, 245.80s/it]"
     ]
    },
    {
     "name": "stdout",
     "output_type": "stream",
     "text": [
      "[-0.917071, -2.15552, -2.24076, -1.46096, 6.93227, -0.643356]\n",
      "fear\n",
      "147.0 seconds\n",
      "sentence:  i was feeling a little sentimental today\n"
     ]
    },
    {
     "name": "stderr",
     "output_type": "stream",
     "text": [
      " 19%|█▉        | 19/100 [1:27:25<5:00:03, 222.26s/it]"
     ]
    },
    {
     "name": "stdout",
     "output_type": "stream",
     "text": [
      "[7.41212, -1.55627, -2.57751, -0.591514, -1.40531, -2.49059]\n",
      "sadness\n",
      "157.0 seconds\n",
      "sentence:  i feel like i know who most of them are by now and am starting to develop my likes and dislikes though i have not been keen on the snap evictions they have seemed pretty pointless the first one to go returned and the two webmates made absolutely zero impact on me so they won t be missed\n"
     ]
    },
    {
     "name": "stderr",
     "output_type": "stream",
     "text": [
      " 20%|██        | 20/100 [1:39:40<8:21:52, 376.40s/it]"
     ]
    },
    {
     "name": "stdout",
     "output_type": "stream",
     "text": [
      "[-0.189645, 6.08026, -1.64416, -2.13526, -2.50865, -1.91716]\n",
      "joy\n",
      "725.0 seconds\n",
      "sentence:  i feel less whiney since the sun came out here in the sf area\n"
     ]
    },
    {
     "name": "stderr",
     "output_type": "stream",
     "text": [
      " 21%|██        | 21/100 [1:43:59<7:29:04, 341.07s/it]"
     ]
    },
    {
     "name": "stdout",
     "output_type": "stream",
     "text": [
      "[5.69196, 0.53066, -2.66453, -0.811191, -1.66552, -2.75873]\n",
      "sadness\n",
      "247.0 seconds\n",
      "sentence:  made a wonderfull new friend\n"
     ]
    },
    {
     "name": "stderr",
     "output_type": "stream",
     "text": [
      " 22%|██▏       | 22/100 [1:46:37<6:11:48, 286.01s/it]"
     ]
    },
    {
     "name": "stdout",
     "output_type": "stream",
     "text": [
      "[-0.464022, 6.89145, -1.78176, -2.51583, -2.54084, -2.1183]\n",
      "joy\n",
      "147.0 seconds\n",
      "sentence:  i feel almost embarrassed to mention the single redshank and common sandpiper but there again who would not want to mention the lone wood sandpiper present at the waters edge\n"
     ]
    },
    {
     "name": "stderr",
     "output_type": "stream",
     "text": [
      " 23%|██▎       | 23/100 [1:54:31<7:19:44, 342.65s/it]"
     ]
    },
    {
     "name": "stdout",
     "output_type": "stream",
     "text": [
      "[7.04722, -0.553027, -2.44018, -1.3772, -1.54954, -2.83447]\n",
      "sadness\n",
      "463.0 seconds\n",
      "sentence:  i know its easy to feel a little envious of me and i cant tell you that you shouldnt\n"
     ]
    },
    {
     "name": "stderr",
     "output_type": "stream",
     "text": [
      " 24%|██▍       | 24/100 [1:59:53<7:06:00, 336.32s/it]"
     ]
    },
    {
     "name": "stdout",
     "output_type": "stream",
     "text": [
      "[-0.781046, -0.640975, -1.28336, 6.5279, -1.10367, -1.57327]\n",
      "anger\n",
      "310.0 seconds\n",
      "sentence:  i would feel awful if she was here this whole time\n"
     ]
    },
    {
     "name": "stderr",
     "output_type": "stream",
     "text": [
      " 25%|██▌       | 25/100 [2:03:20<6:11:59, 297.60s/it]"
     ]
    },
    {
     "name": "stdout",
     "output_type": "stream",
     "text": [
      "[7.29429, -0.832847, -2.76295, -0.988611, -1.3643, -2.99271]\n",
      "sadness\n",
      "196.0 seconds\n",
      "sentence:  i feel very mislead by someone that i really really thought i knew and liked very much so\n"
     ]
    },
    {
     "name": "stderr",
     "output_type": "stream",
     "text": [
      " 26%|██▌       | 26/100 [2:08:19<6:07:34, 298.04s/it]"
     ]
    },
    {
     "name": "stdout",
     "output_type": "stream",
     "text": [
      "[2.78581, 0.71941, 0.936251, -0.396232, -3.70765, -0.698748]\n",
      "288.0 seconds\n",
      "sentence:  i feel like we are doomed us humans\n"
     ]
    },
    {
     "name": "stderr",
     "output_type": "stream",
     "text": [
      " 27%|██▋       | 27/100 [2:11:15<5:18:03, 261.42s/it]"
     ]
    },
    {
     "name": "stdout",
     "output_type": "stream",
     "text": [
      "[7.46789, -1.44355, -2.62939, -0.733079, -1.30502, -2.75623]\n",
      "sadness\n",
      "165.0 seconds\n",
      "sentence:  i am going to have to check on in just a few minutes but there is this clock up above the screen that keeps ticking down the minutes i have left so am feeling a bit frantic\n"
     ]
    },
    {
     "name": "stderr",
     "output_type": "stream",
     "text": [
      " 28%|██▊       | 28/100 [2:19:23<6:35:12, 329.34s/it]"
     ]
    },
    {
     "name": "stdout",
     "output_type": "stream",
     "text": [
      "[-0.280533, -2.19798, -2.50769, -1.69015, 6.66054, -0.561195]\n",
      "fear\n",
      "477.0 seconds\n",
      "sentence:  i got the sleep but if i could choose not to be woken up by an alarm i d definitely take that over anything it makes me feel so groggy\n"
     ]
    },
    {
     "name": "stderr",
     "output_type": "stream",
     "text": [
      " 29%|██▉       | 29/100 [2:26:40<7:07:55, 361.62s/it]"
     ]
    },
    {
     "name": "stdout",
     "output_type": "stream",
     "text": [
      "[6.63378, -0.172736, -2.70498, -1.51391, -1.23623, -2.74728]\n",
      "sadness\n",
      "426.0 seconds\n",
      "sentence:  ive been boring for few weeks and feeling a bit gloomy cause of the rainy days\n"
     ]
    },
    {
     "name": "stderr",
     "output_type": "stream",
     "text": [
      " 30%|███       | 30/100 [2:31:18<6:32:42, 336.61s/it]"
     ]
    },
    {
     "name": "stdout",
     "output_type": "stream",
     "text": [
      "[7.44797, -1.41731, -2.61681, -0.828525, -1.27381, -2.71984]\n",
      "sadness\n",
      "267.0 seconds\n",
      "sentence:  i feel that this information is vital to moving on with your day and you re not complete until you read it\n"
     ]
    },
    {
     "name": "stderr",
     "output_type": "stream",
     "text": [
      " 31%|███       | 31/100 [2:36:41<6:22:14, 332.38s/it]"
     ]
    },
    {
     "name": "stdout",
     "output_type": "stream",
     "text": [
      "[-1.30742, 7.33747, -1.3435, -2.25491, -2.73174, -2.18294]\n",
      "joy\n",
      "311.0 seconds\n",
      "sentence:  im feeling generous today heres one more you may have already seen but is good for a chuckle\n"
     ]
    },
    {
     "name": "stderr",
     "output_type": "stream",
     "text": [
      " 32%|███▏      | 32/100 [2:41:31<6:02:29, 319.85s/it]"
     ]
    },
    {
     "name": "stdout",
     "output_type": "stream",
     "text": [
      "[-1.58093, 7.03129, -0.506563, -2.33431, -2.84247, -2.04068]\n",
      "279.0 seconds\n",
      "sentence:  i will feel awkward about just calling up one of these people out of the blue to hang out or rather to be familiar with them on a deeper level they are not my kith and kin\n"
     ]
    },
    {
     "name": "stderr",
     "output_type": "stream",
     "text": [
      " 33%|███▎      | 33/100 [2:49:45<6:55:28, 372.07s/it]"
     ]
    },
    {
     "name": "stdout",
     "output_type": "stream",
     "text": [
      "[6.73316, -0.138488, -2.67866, -1.2274, -1.4015, -3.04753]\n",
      "sadness\n",
      "483.0 seconds\n",
      "sentence:  i don t like the feeling i get when someone is even a little bit offended by some offhand remark i ve made\n"
     ]
    },
    {
     "name": "stderr",
     "output_type": "stream",
     "text": [
      " 34%|███▍      | 34/100 [2:55:26<6:39:04, 362.80s/it]"
     ]
    },
    {
     "name": "stdout",
     "output_type": "stream",
     "text": [
      "[0.919792, -1.19088, -1.69627, 6.41178, -1.4524, -1.91941]\n",
      "anger\n",
      "330.0 seconds\n",
      "sentence:  i get it crumble but thanks for feeling the need to tell me that im the one who is fucked up\n"
     ]
    },
    {
     "name": "stderr",
     "output_type": "stream",
     "text": [
      " 35%|███▌      | 35/100 [3:00:42<6:17:34, 348.53s/it]"
     ]
    },
    {
     "name": "stdout",
     "output_type": "stream",
     "text": [
      "[0.208514, -0.123417, -1.62603, 5.25942, -0.510129, -3.06199]\n",
      "anger\n",
      "304.0 seconds\n",
      "sentence:  i am controlling the growth of this business and every time i post work for a client i feel even more determined to make it a full time business one day\n"
     ]
    },
    {
     "name": "stderr",
     "output_type": "stream",
     "text": [
      " 36%|███▌      | 36/100 [3:07:45<6:35:50, 371.10s/it]"
     ]
    },
    {
     "name": "stdout",
     "output_type": "stream",
     "text": [
      "[-0.972966, 6.59944, -1.51953, -1.91637, -2.19489, -2.4522]\n",
      "joy\n",
      "412.0 seconds\n",
      "sentence:  i was pregnant with dean i spent the rest of my pregnancy feeling terrified about having another baby\n"
     ]
    },
    {
     "name": "stderr",
     "output_type": "stream",
     "text": [
      " 37%|███▋      | 37/100 [3:12:21<5:59:43, 342.59s/it]"
     ]
    },
    {
     "name": "stdout",
     "output_type": "stream",
     "text": [
      "[0.94933, -1.13361, -2.44974, -1.92631, 5.21033, -1.98129]\n",
      "fear\n",
      "265.0 seconds\n",
      "sentence:  i actually feel agitated which led to a terrible day yesterday in which i was unable to concentrate on anything and basically piddled the day away\n"
     ]
    },
    {
     "name": "stderr",
     "output_type": "stream",
     "text": [
      " 38%|███▊      | 38/100 [3:18:36<6:03:52, 352.14s/it]"
     ]
    },
    {
     "name": "stdout",
     "output_type": "stream",
     "text": [
      "[1.72699, -2.08658, -2.59826, 4.91719, 1.37411, -2.8588]\n",
      "anger\n",
      "363.0 seconds\n",
      "sentence:  i have an ed i will tell you that i know i shouldn t feel shamed of eating a protein bar for breakfast and the fact that i ate one isn t what makes me shameful it s the fact i didn t make it is what made me hang my head and tuck tail\n"
     ]
    },
    {
     "name": "stderr",
     "output_type": "stream",
     "text": [
      " 39%|███▉      | 39/100 [3:30:03<7:40:02, 452.50s/it]"
     ]
    },
    {
     "name": "stdout",
     "output_type": "stream",
     "text": [
      "[4.70628, 0.849873, -1.67819, -0.636329, -2.31082, -2.39666]\n",
      "sadness\n",
      "675.0 seconds\n",
      "sentence:  i feel radiant bright accomplished and happy\n"
     ]
    },
    {
     "name": "stderr",
     "output_type": "stream",
     "text": [
      " 40%|████      | 40/100 [3:32:51<6:07:25, 367.42s/it]"
     ]
    },
    {
     "name": "stdout",
     "output_type": "stream",
     "text": [
      "[-1.35184, 7.35418, -1.32623, -2.29178, -2.7464, -2.12573]\n",
      "joy\n",
      "157.0 seconds\n",
      "sentence:  i feel refrigerator magnets that were so popular a few years ago\n"
     ]
    },
    {
     "name": "stderr",
     "output_type": "stream",
     "text": [
      " 41%|████      | 41/100 [3:36:39<5:20:04, 325.50s/it]"
     ]
    },
    {
     "name": "stdout",
     "output_type": "stream",
     "text": [
      "[-1.12592, 7.25144, -1.4488, -2.3773, -2.62259, -2.1701]\n",
      "joy\n",
      "217.0 seconds\n",
      "sentence:  i am feeling very touch deprived with all that has been happening\n"
     ]
    },
    {
     "name": "stderr",
     "output_type": "stream",
     "text": [
      " 42%|████▏     | 42/100 [3:40:16<4:43:11, 292.95s/it]"
     ]
    },
    {
     "name": "stdout",
     "output_type": "stream",
     "text": [
      "[1.17887e+18, 7.16212e+17, 1.15049e+17, 1.16456e+18, 5903830000000000.0, -1.30286e+18]\n",
      "sadness\n",
      "206.0 seconds\n",
      "sentence:  i am feeling apprehensive about it but also wildly excited\n"
     ]
    },
    {
     "name": "stderr",
     "output_type": "stream",
     "text": [
      " 43%|████▎     | 43/100 [3:44:06<4:20:17, 273.99s/it]"
     ]
    },
    {
     "name": "stdout",
     "output_type": "stream",
     "text": [
      "[-1.62279, -1.25708, -1.92862, -1.70742, 5.74134, 0.465706]\n",
      "fear\n",
      "219.0 seconds\n",
      "sentence:  i was feeling pretty relaxed by the time i boarded the very new looking airbus and headed into the hazy sky en route to honolulu\n"
     ]
    },
    {
     "name": "stderr",
     "output_type": "stream",
     "text": [
      " 44%|████▍     | 44/100 [3:49:58<4:37:37, 297.45s/it]"
     ]
    },
    {
     "name": "stdout",
     "output_type": "stream",
     "text": [
      "[-1.1341, 7.18426, -1.50403, -2.42759, -2.56816, -2.02405]\n",
      "joy\n",
      "341.0 seconds\n",
      "sentence:  i am a quiet person but what i have to say i feel is important\n"
     ]
    },
    {
     "name": "stderr",
     "output_type": "stream",
     "text": [
      " 45%|████▌     | 45/100 [3:54:04<4:18:25, 281.92s/it]"
     ]
    },
    {
     "name": "stdout",
     "output_type": "stream",
     "text": [
      "[-1.01579, 7.08024, -1.59886, -2.19685, -2.45789, -2.34157]\n",
      "joy\n",
      "235.0 seconds\n",
      "sentence:  i think i started to feel a little homesick\n"
     ]
    },
    {
     "name": "stderr",
     "output_type": "stream",
     "text": [
      " 46%|████▌     | 46/100 [3:57:19<3:50:23, 255.99s/it]"
     ]
    },
    {
     "name": "stdout",
     "output_type": "stream",
     "text": [
      "[7.45319, -1.42788, -2.53739, -0.988945, -1.19731, -2.7372]\n",
      "sadness\n",
      "185.0 seconds\n",
      "sentence:  i am feeling eager to start doing some work the man who works there literally says so uhm you guys want to go in back and see if we can find anything to do\n"
     ]
    },
    {
     "name": "stderr",
     "output_type": "stream",
     "text": [
      " 47%|████▋     | 47/100 [4:05:00<4:40:19, 317.35s/it]"
     ]
    },
    {
     "name": "stdout",
     "output_type": "stream",
     "text": [
      "[-1.10496, 6.86947, -1.61384, -2.08091, -2.35752, -2.14576]\n",
      "joy\n",
      "450.0 seconds\n",
      "sentence:  i feel uncomfortable since i have a smaller rib cage and a bigger chest either i am spilling over the top of the tank or the elastic band support is too tight or too loose\n"
     ]
    },
    {
     "name": "stderr",
     "output_type": "stream",
     "text": [
      " 48%|████▊     | 48/100 [4:12:47<5:13:52, 362.16s/it]"
     ]
    },
    {
     "name": "stdout",
     "output_type": "stream",
     "text": [
      "[-0.459424, 1.7734, -2.69169, -2.50089, 3.21627, -0.963802]\n",
      "fear\n",
      "455.0 seconds\n",
      "sentence:  im feeling reluctant to exit my freshly cleaned apartment which i stayed up cleaning late last night\n"
     ]
    },
    {
     "name": "stderr",
     "output_type": "stream",
     "text": [
      " 49%|████▉     | 49/100 [4:17:21<4:45:24, 335.78s/it]"
     ]
    },
    {
     "name": "stdout",
     "output_type": "stream",
     "text": [
      "[-0.0153136, -0.918442, -2.4182, -2.72607, 5.2758, -0.310249]\n",
      "fear\n",
      "263.0 seconds\n",
      "sentence:  i feel that i need to know that i can depend on myself before i put myself in the position of supporting someone else and being supported by someone else\n"
     ]
    },
    {
     "name": "stderr",
     "output_type": "stream",
     "text": [
      " 50%|█████     | 50/100 [4:24:03<4:56:29, 355.78s/it]"
     ]
    },
    {
     "name": "stdout",
     "output_type": "stream",
     "text": [
      "[-1.49317, 5.61038, 1.59628, -2.41934, -2.89901, -2.11823]\n",
      "391.0 seconds\n",
      "sentence:  im feeling rather angsty and listless\n"
     ]
    },
    {
     "name": "stderr",
     "output_type": "stream",
     "text": [
      " 51%|█████     | 51/100 [4:27:01<4:06:50, 302.25s/it]"
     ]
    },
    {
     "name": "stdout",
     "output_type": "stream",
     "text": [
      "[4.28892, 1.91665, -1.71437, -1.15251, -2.41504, -2.84489]\n",
      "sadness\n",
      "166.0 seconds\n",
      "sentence:  i try my best to love on them shed some light but i feel deeply compassionate with their problems and hurt even if its someone in the media\n"
     ]
    },
    {
     "name": "stderr",
     "output_type": "stream",
     "text": [
      " 52%|█████▏    | 52/100 [4:33:25<4:21:34, 326.97s/it]"
     ]
    },
    {
     "name": "stdout",
     "output_type": "stream",
     "text": [
      "[0.376526, 2.39653, 3.2188, -2.87983, -2.19689, -2.07943]\n",
      "love\n",
      "374.0 seconds\n",
      "sentence:  i was so uncomfortable and feeling weird feelings but wasn t sure if they were contractions since i never really felt contractions with jared until they jacked me up with pitocin\n"
     ]
    },
    {
     "name": "stderr",
     "output_type": "stream",
     "text": [
      " 53%|█████▎    | 53/100 [4:41:25<4:52:00, 372.78s/it]"
     ]
    },
    {
     "name": "stdout",
     "output_type": "stream",
     "text": [
      "[4.33243e+18, -2.04482e+18, -2.96731e+18, -1.01573e+18, -4.38681e+18, 1.23925e+18]\n",
      "468.0 seconds\n",
      "sentence:  i feel gloomy and tired\n"
     ]
    },
    {
     "name": "stderr",
     "output_type": "stream",
     "text": [
      " 54%|█████▍    | 54/100 [4:44:04<3:56:45, 308.82s/it]"
     ]
    },
    {
     "name": "stdout",
     "output_type": "stream",
     "text": [
      "[7.47686, -1.50087, -2.60979, -0.794704, -1.27807, -2.63835]\n",
      "sadness\n",
      "148.0 seconds\n",
      "sentence:  i really like this person feel that the question was really asked out of a sincere place of love and concern about how to move forward in light of what the sexuality study recently a href http www\n"
     ]
    },
    {
     "name": "stderr",
     "output_type": "stream",
     "text": [
      " 55%|█████▌    | 55/100 [4:52:31<4:36:01, 368.04s/it]"
     ]
    },
    {
     "name": "stdout",
     "output_type": "stream",
     "text": [
      "[-0.881648, 5.81339, -0.638228, -1.6755, -2.67539, -1.9126]\n",
      "joy\n",
      "495.0 seconds\n",
      "sentence:  i would force myself to eat my normal routine clean meals a day but then i just started feeling so awful\n"
     ]
    },
    {
     "name": "stderr",
     "output_type": "stream",
     "text": [
      " 56%|█████▌    | 56/100 [4:57:45<4:18:03, 351.89s/it]"
     ]
    },
    {
     "name": "stdout",
     "output_type": "stream",
     "text": [
      "[4.88579, 1.44108, -3.23721, -0.150044, -1.02225, -3.94386]\n",
      "sadness\n",
      "303.0 seconds\n",
      "sentence:  i feel rather privileged to have witnessed the great man in action it really was impossible for a novice like me to work out just which one of the four identical looking riders was he\n"
     ]
    },
    {
     "name": "stderr",
     "output_type": "stream",
     "text": [
      " 57%|█████▋    | 57/100 [5:05:35<4:37:40, 387.45s/it]"
     ]
    },
    {
     "name": "stdout",
     "output_type": "stream",
     "text": [
      "[-0.952006, 6.60226, -1.98052, -1.71343, -2.27992, -1.95319]\n",
      "joy\n",
      "459.0 seconds\n",
      "sentence:  i feel like im at the spa getting a wonderful facial when i use them\n"
     ]
    },
    {
     "name": "stderr",
     "output_type": "stream",
     "text": [
      " 58%|█████▊    | 58/100 [5:09:48<4:03:00, 347.16s/it]"
     ]
    },
    {
     "name": "stdout",
     "output_type": "stream",
     "text": [
      "[-0.797201, 6.99788, -1.56556, -2.55253, -2.54374, -2.02609]\n",
      "joy\n",
      "242.0 seconds\n",
      "sentence:  i feel petty all of a sudden\n"
     ]
    },
    {
     "name": "stderr",
     "output_type": "stream",
     "text": [
      " 59%|█████▉    | 59/100 [5:12:33<3:19:47, 292.37s/it]"
     ]
    },
    {
     "name": "stdout",
     "output_type": "stream",
     "text": [
      "[-1.03009, -1.4654, -1.14465, 7.37597, -0.545946, -1.78004]\n",
      "anger\n",
      "153.0 seconds\n",
      "sentence:  i hope you like this more honest amp raw blog post amp if you are feeling unhappy i hope this makes you feel less alone\n"
     ]
    },
    {
     "name": "stderr",
     "output_type": "stream",
     "text": [
      " 60%|██████    | 60/100 [5:18:21<3:26:06, 309.15s/it]"
     ]
    },
    {
     "name": "stdout",
     "output_type": "stream",
     "text": [
      "[9.30318e+17, 1.44645e+18, -4.05406e+18, -3.35797e+17, 2.10828e+18, 6.78604e+17]\n",
      "337.0 seconds\n",
      "sentence:  i feel slightly disgusted as well\n"
     ]
    },
    {
     "name": "stderr",
     "output_type": "stream",
     "text": [
      " 61%|██████    | 61/100 [5:20:57<2:51:01, 263.11s/it]"
     ]
    },
    {
     "name": "stdout",
     "output_type": "stream",
     "text": [
      "[-0.799089, -0.129304, -1.31027, 6.49285, -1.37516, -1.97638]\n",
      "anger\n",
      "145.0 seconds\n",
      "sentence:  i was quite surprised with the weather these past few days but im so thankful for that since i still can wear my shorts out without feeling that cold yes no kidding\n"
     ]
    },
    {
     "name": "stderr",
     "output_type": "stream",
     "text": [
      " 62%|██████▏   | 62/100 [5:28:10<3:18:54, 314.07s/it]"
     ]
    },
    {
     "name": "stdout",
     "output_type": "stream",
     "text": [
      "[-0.882785, 3.53821, -2.50938, -1.03495, -1.30223, 1.36767]\n",
      "422.0 seconds\n",
      "sentence:  i feel slightly relaxed being a\n"
     ]
    },
    {
     "name": "stderr",
     "output_type": "stream",
     "text": [
      " 63%|██████▎   | 63/100 [5:30:47<2:44:38, 267.00s/it]"
     ]
    },
    {
     "name": "stdout",
     "output_type": "stream",
     "text": [
      "[-1.29638, 7.32739, -1.3445, -2.31119, -2.72768, -2.12528]\n",
      "joy\n",
      "146.0 seconds\n",
      "sentence:  i feel shy to admit that i was struggling to haul a single computer up\n"
     ]
    },
    {
     "name": "stderr",
     "output_type": "stream",
     "text": [
      " 64%|██████▍   | 64/100 [5:34:58<2:37:17, 262.16s/it]"
     ]
    },
    {
     "name": "stdout",
     "output_type": "stream",
     "text": [
      "[0.504391, -1.39579, -2.24172, -2.43905, 5.71908, -1.34907]\n",
      "fear\n",
      "240.0 seconds\n",
      "sentence:  i just went about my script of would you like mustard or sauce with that and started to feel really startled\n"
     ]
    },
    {
     "name": "stderr",
     "output_type": "stream",
     "text": [
      " 65%|██████▌   | 65/100 [5:40:07<2:41:10, 276.29s/it]"
     ]
    },
    {
     "name": "stdout",
     "output_type": "stream",
     "text": [
      "[4557.58, 440.894, -458.803, 1988.15, -1008.47, -3086.99]\n",
      "298.0 seconds\n",
      "sentence:  i enjoy my colleagues i m not feeling very sociable today\n"
     ]
    },
    {
     "name": "stderr",
     "output_type": "stream",
     "text": [
      " 66%|██████▌   | 66/100 [5:43:45<2:26:33, 258.65s/it]"
     ]
    },
    {
     "name": "stdout",
     "output_type": "stream",
     "text": [
      "[-1.38691, 7.24108, -1.39406, -2.18095, -2.64672, -2.03972]\n",
      "joy\n",
      "206.0 seconds\n",
      "sentence:  im feeling and if ive liked being pregnant\n"
     ]
    },
    {
     "name": "stderr",
     "output_type": "stream",
     "text": [
      " 67%|██████▋   | 67/100 [5:46:51<2:10:17, 236.89s/it]"
     ]
    },
    {
     "name": "stdout",
     "output_type": "stream",
     "text": [
      "[-0.548567, 0.694617, 5.51144, -1.54276, -2.66373, -1.46316]\n",
      "love\n",
      "175.0 seconds\n",
      "sentence:  i then feel your tender touch as you enfold me with his love\n"
     ]
    },
    {
     "name": "stderr",
     "output_type": "stream",
     "text": [
      " 68%|██████▊   | 68/100 [5:50:46<2:06:08, 236.50s/it]"
     ]
    },
    {
     "name": "stdout",
     "output_type": "stream",
     "text": [
      "[-2.11973, 0.582665, 6.43353, -1.53758, -1.80144, -1.50469]\n",
      "love\n",
      "225.0 seconds\n",
      "sentence:  i lost a few people which i hate because i have a really hard time letting go of people to whom i feel loyal\n"
     ]
    },
    {
     "name": "stderr",
     "output_type": "stream",
     "text": [
      " 69%|██████▉   | 69/100 [5:56:29<2:18:33, 268.18s/it]"
     ]
    },
    {
     "name": "stdout",
     "output_type": "stream",
     "text": [
      "[-2.24924, 1.14495, 5.46984, -1.06532, -2.02104, -1.34209]\n",
      "love\n",
      "331.0 seconds\n",
      "sentence:  i have had no interest at all to make any effort to meet men and when the chance arrises i then feel burdened with negative thoughts of he ll just be another idiot only after one thing\n"
     ]
    },
    {
     "name": "stderr",
     "output_type": "stream",
     "text": [
      " 70%|███████   | 70/100 [6:05:04<2:51:11, 342.39s/it]"
     ]
    },
    {
     "name": "stdout",
     "output_type": "stream",
     "text": [
      "[4.12707, 2.22756, -2.46603, -1.22182, -1.97072, -2.70416]\n",
      "sadness\n",
      "504.0 seconds\n",
      "sentence:  i feel i m being nutritionally supportive of it as well\n"
     ]
    },
    {
     "name": "stderr",
     "output_type": "stream",
     "text": [
      " 71%|███████   | 71/100 [6:08:41<2:27:15, 304.68s/it]"
     ]
    },
    {
     "name": "stdout",
     "output_type": "stream",
     "text": [
      "[2.14778e+18, 1.04696e+18, 2.47586e+18, -1.45913e+17, -5.50074e+17, 5.31445e+18]\n",
      "205.0 seconds\n",
      "sentence:  i feel impatient i just post a blog entry and i feel ive gotten some words written and out into the world\n"
     ]
    },
    {
     "name": "stderr",
     "output_type": "stream",
     "text": [
      " 72%|███████▏  | 72/100 [6:14:09<2:25:29, 311.75s/it]"
     ]
    },
    {
     "name": "stdout",
     "output_type": "stream",
     "text": [
      "[0.096988, -0.754816, -1.70692, 6.85471, -0.964305, -2.44237]\n",
      "anger\n",
      "317.0 seconds\n",
      "sentence:  i am trying my hardest so i can get to a place where i can join you and finally feel like i have something worthwhile to say\n"
     ]
    },
    {
     "name": "stderr",
     "output_type": "stream",
     "text": [
      " 73%|███████▎  | 73/100 [6:20:26<2:29:05, 331.30s/it]"
     ]
    },
    {
     "name": "stdout",
     "output_type": "stream",
     "text": [
      "[-0.947283, 7.05565, -1.6547, -2.25624, -2.45011, -2.27493]\n",
      "joy\n",
      "366.0 seconds\n",
      "sentence:  i have to admit i feel amused when i see the pti jamiat and a whole lot of others in the media try to avoid the suggestion that they are actually protesting the use of sharia in the case of raymond davis s release\n"
     ]
    },
    {
     "name": "stderr",
     "output_type": "stream",
     "text": [
      " 74%|███████▍  | 74/100 [6:30:23<2:58:08, 411.08s/it]"
     ]
    },
    {
     "name": "stdout",
     "output_type": "stream",
     "text": [
      "[-1.06241, 6.8364, -1.33321, -2.13869, -2.71113, -1.95243]\n",
      "joy\n",
      "586.0 seconds\n",
      "sentence:  i feel embarrassed that it got so bad\n"
     ]
    },
    {
     "name": "stderr",
     "output_type": "stream",
     "text": [
      " 75%|███████▌  | 75/100 [6:33:23<2:22:20, 341.63s/it]"
     ]
    },
    {
     "name": "stdout",
     "output_type": "stream",
     "text": [
      "[7.45624, -1.43925, -2.65201, -0.757451, -1.25859, -2.7449]\n",
      "sadness\n",
      "168.0 seconds\n",
      "sentence:  im feeling really bitter about this one\n"
     ]
    },
    {
     "name": "stderr",
     "output_type": "stream",
     "text": [
      " 76%|███████▌  | 76/100 [6:36:12<1:55:57, 289.88s/it]"
     ]
    },
    {
     "name": "stdout",
     "output_type": "stream",
     "text": [
      "[-0.523507, -1.55348, -0.665782, 7.00662, -1.38733, -1.49947]\n",
      "anger\n",
      "158.0 seconds\n",
      "sentence:  i feel brave today heading to amman and beirut by way of istanbul or i feel brave today a href http jessicadickinsongoodman\n"
     ]
    },
    {
     "name": "stderr",
     "output_type": "stream",
     "text": [
      " 77%|███████▋  | 77/100 [6:42:32<2:01:28, 316.91s/it]"
     ]
    },
    {
     "name": "stdout",
     "output_type": "stream",
     "text": [
      "[-0.855223, 6.61062, -1.6367, -2.09566, -2.33848, -2.08799]\n",
      "joy\n",
      "369.0 seconds\n",
      "sentence:  i had a fab christmas and an amazing new year with my family and friends and against all odds i feel very optimistic about\n"
     ]
    },
    {
     "name": "stderr",
     "output_type": "stream",
     "text": [
      " 78%|███████▊  | 78/100 [6:48:23<1:59:57, 327.14s/it]"
     ]
    },
    {
     "name": "stdout",
     "output_type": "stream",
     "text": [
      "[6.48391e+17, 1.26945e+16, -5.09861e+17, 9.48042e+17, 6.42845e+17, -6.72786e+17]\n",
      "340.0 seconds\n",
      "sentence:  i feel like a loser everyone says they lost but i dont i know exactly where i am i just hate being here oh\n"
     ]
    },
    {
     "name": "stderr",
     "output_type": "stream",
     "text": [
      " 79%|███████▉  | 79/100 [6:54:05<1:56:07, 331.77s/it]"
     ]
    },
    {
     "name": "stdout",
     "output_type": "stream",
     "text": [
      "[6.28976, -0.299679, -2.94161, 0.103843, -1.39353, -3.2697]\n",
      "sadness\n",
      "331.0 seconds\n",
      "sentence:  i feel defeated but others i feel refreshed\n"
     ]
    },
    {
     "name": "stderr",
     "output_type": "stream",
     "text": [
      " 80%|████████  | 80/100 [6:57:25<1:37:21, 292.07s/it]"
     ]
    },
    {
     "name": "stdout",
     "output_type": "stream",
     "text": [
      "[7.32845, -1.0585, -2.71027, -0.64963, -1.41482, -2.99792]\n",
      "sadness\n",
      "188.0 seconds\n",
      "sentence:  i was feeling particularly vulnerable in a specific area so i began to talking to my friends and interestingly enough there was an incredible understanding of my struggle\n"
     ]
    },
    {
     "name": "stderr",
     "output_type": "stream",
     "text": [
      " 81%|████████  | 81/100 [7:03:53<1:41:34, 320.77s/it]"
     ]
    },
    {
     "name": "stdout",
     "output_type": "stream",
     "text": [
      "[-4.57496e+17, -3.80345e+18, -1.0817e+18, -1.24869e+18, -7.02915e+17, -3.04069e+18]\n",
      "377.0 seconds\n",
      "sentence:  i go onto the officer down memorial page and reflect on my feelings about that wonderful officer which seems to make me feel a little better\n"
     ]
    },
    {
     "name": "stderr",
     "output_type": "stream",
     "text": [
      " 82%|████████▏ | 82/100 [7:09:52<1:39:43, 332.41s/it]"
     ]
    },
    {
     "name": "stdout",
     "output_type": "stream",
     "text": [
      "[-0.779153, 6.57775, -1.61692, -2.25254, -2.21622, -2.17085]\n",
      "joy\n",
      "348.0 seconds\n",
      "sentence:  im with a group of people i still feel isolated and on the outside looking in\n"
     ]
    },
    {
     "name": "stderr",
     "output_type": "stream",
     "text": [
      " 83%|████████▎ | 83/100 [7:14:13<1:28:03, 310.80s/it]"
     ]
    },
    {
     "name": "stdout",
     "output_type": "stream",
     "text": [
      "[7.28928, -1.48642, -2.93026, -0.834342, -0.723263, -2.91317]\n",
      "sadness\n",
      "249.0 seconds\n",
      "sentence:  i feel blessed to know this family\n"
     ]
    },
    {
     "name": "stderr",
     "output_type": "stream",
     "text": [
      " 84%|████████▍ | 84/100 [7:16:59<1:11:21, 267.61s/it]"
     ]
    },
    {
     "name": "stdout",
     "output_type": "stream",
     "text": [
      "[-1.68341, 5.61833, 1.45424, -2.6603, -2.82113, -1.84299]\n",
      "156.0 seconds\n",
      "sentence:  i feel terrified because my landlord has not changed our locks yet\n"
     ]
    },
    {
     "name": "stderr",
     "output_type": "stream",
     "text": [
      " 85%|████████▌ | 85/100 [7:20:35<1:03:01, 252.11s/it]"
     ]
    },
    {
     "name": "stdout",
     "output_type": "stream",
     "text": [
      "[-1.89637e+18, 3.66362e+18, 2.9186e+18, 2.26509e+18, 2.6356e+18, -7.29336e+17]\n",
      "205.0 seconds\n",
      "sentence:  i am loosing out but i feel like i have have so much to share with many and if anything that is not unfortunate if anything it makes me grateful\n"
     ]
    },
    {
     "name": "stderr",
     "output_type": "stream",
     "text": [
      " 86%|████████▌ | 86/100 [7:27:38<1:10:47, 303.38s/it]"
     ]
    },
    {
     "name": "stdout",
     "output_type": "stream",
     "text": [
      "[7.36338, -1.024, -2.75953, -0.890682, -1.24122, -3.07345]\n",
      "sadness\n",
      "412.0 seconds\n",
      "sentence:  i don t like eating meals that feel too virtuous\n"
     ]
    },
    {
     "name": "stderr",
     "output_type": "stream",
     "text": [
      " 87%|████████▋ | 87/100 [7:31:18<1:00:18, 278.32s/it]"
     ]
    },
    {
     "name": "stdout",
     "output_type": "stream",
     "text": [
      "[-1.42046, 7.19926, -1.34928, -2.13875, -2.64871, -2.01815]\n",
      "joy\n",
      "208.0 seconds\n",
      "sentence:  i left feeling pretty thrilled for the opportunity to at least throw my name in the hat\n"
     ]
    },
    {
     "name": "stderr",
     "output_type": "stream",
     "text": [
      " 88%|████████▊ | 88/100 [7:35:44<54:56, 274.70s/it]  "
     ]
    },
    {
     "name": "stdout",
     "output_type": "stream",
     "text": [
      "[-1.22123, 7.19387, -1.48634, -2.30056, -2.6325, -1.98495]\n",
      "joy\n",
      "255.0 seconds\n",
      "sentence:  i feel kinda weird when andrea tries to talk to me about chris\n"
     ]
    },
    {
     "name": "stderr",
     "output_type": "stream",
     "text": [
      " 89%|████████▉ | 89/100 [7:39:32<47:45, 260.54s/it]"
     ]
    },
    {
     "name": "stdout",
     "output_type": "stream",
     "text": [
      "[-1.05388, -1.39846, -1.56349, -3.43598, 4.48938, 3.15632]\n",
      "fear\n",
      "216.0 seconds\n",
      "sentence:  i loved about ellie is that she didnt feel insulted by all the rude douche baggy things lothaire said to her because according to ellie insults only hurt when they come from somebody you respect damn straight\n"
     ]
    },
    {
     "name": "stderr",
     "output_type": "stream",
     "text": [
      " 90%|█████████ | 90/100 [7:48:27<57:09, 342.91s/it]"
     ]
    },
    {
     "name": "stdout",
     "output_type": "stream",
     "text": [
      "[1.39638, -0.100725, -0.388404, 3.51195, -1.53742, -3.22427]\n",
      "anger\n",
      "524.0 seconds\n",
      "sentence:  i feel was pretty triumphant\n"
     ]
    },
    {
     "name": "stderr",
     "output_type": "stream",
     "text": [
      " 91%|█████████ | 91/100 [7:50:53<42:33, 283.77s/it]"
     ]
    },
    {
     "name": "stdout",
     "output_type": "stream",
     "text": [
      "[-1.31024, 7.33699, -1.35026, -2.33239, -2.74123, -2.07581]\n",
      "joy\n",
      "134.0 seconds\n",
      "sentence:  im enjoying my solitary confinement at home i rarely feel lonely\n"
     ]
    },
    {
     "name": "stderr",
     "output_type": "stream",
     "text": [
      " 92%|█████████▏| 92/100 [7:54:20<34:45, 260.64s/it]"
     ]
    },
    {
     "name": "stdout",
     "output_type": "stream",
     "text": [
      "[6.59039, -0.469042, -2.28689, -1.02861, -1.62739, -2.7617]\n",
      "sadness\n",
      "196.0 seconds\n",
      "sentence:  i am being over dramatic but i do feel very strongly for her and i am resolved to speak with her next chance i get\n"
     ]
    },
    {
     "name": "stderr",
     "output_type": "stream",
     "text": [
      " 93%|█████████▎| 93/100 [8:00:08<33:29, 287.02s/it]"
     ]
    },
    {
     "name": "stdout",
     "output_type": "stream",
     "text": [
      "[-1.30718, 7.28087, -1.35751, -2.23626, -2.69397, -2.16285]\n",
      "joy\n",
      "338.0 seconds\n",
      "sentence:  i really dont like quinn because i feel like she will just end up hurting barney and i hated the lame ted robin storyline\n"
     ]
    },
    {
     "name": "stderr",
     "output_type": "stream",
     "text": [
      " 94%|█████████▍| 94/100 [8:05:57<30:33, 305.56s/it]"
     ]
    },
    {
     "name": "stdout",
     "output_type": "stream",
     "text": [
      "[5.97451, -0.563643, -2.44908, 0.262138, -1.39737, -3.10963]\n",
      "338.0 seconds\n",
      "sentence:  i feel so lousy but i shouldnt be focusing on me now\n"
     ]
    },
    {
     "name": "stderr",
     "output_type": "stream",
     "text": [
      " 95%|█████████▌| 95/100 [8:09:54<23:45, 285.04s/it]"
     ]
    },
    {
     "name": "stdout",
     "output_type": "stream",
     "text": [
      "[7.43349, -1.34966, -2.46963, -1.0995, -1.23969, -2.76779]\n",
      "sadness\n",
      "226.0 seconds\n",
      "sentence:  i cant remember ever feeling so exhausted it took trips with the car on the last day to get everything brought to the trailer\n"
     ]
    },
    {
     "name": "stderr",
     "output_type": "stream",
     "text": [
      " 96%|█████████▌| 96/100 [8:15:39<20:12, 303.14s/it]"
     ]
    },
    {
     "name": "stdout",
     "output_type": "stream",
     "text": [
      "[7.18478, -0.674925, -2.66661, -1.08386, -1.31786, -3.1482]\n",
      "sadness\n",
      "334.0 seconds\n",
      "sentence:  i wrote two years ago so many things i feel unsure of maybe\n"
     ]
    },
    {
     "name": "stderr",
     "output_type": "stream",
     "text": [
      " 97%|█████████▋| 97/100 [8:19:29<14:03, 281.07s/it]"
     ]
    },
    {
     "name": "stdout",
     "output_type": "stream",
     "text": [
      "[-0.415269, -2.32555, -2.31458, -1.36655, 6.87852, -0.955822]\n",
      "fear\n",
      "219.0 seconds\n",
      "sentence:  i feel suspicious of informality and a lack of credentials\n"
     ]
    },
    {
     "name": "stderr",
     "output_type": "stream",
     "text": [
      " 98%|█████████▊| 98/100 [8:22:57<08:38, 259.24s/it]"
     ]
    },
    {
     "name": "stdout",
     "output_type": "stream",
     "text": [
      "[1.7701e+18, -9.87216e+17, -1.95049e+18, -1.29608e+18, -7.08552e+17, 3.17742e+17]\n",
      "197.0 seconds\n",
      "sentence:  i receive every month make me proud and feel appreciative\n"
     ]
    },
    {
     "name": "stderr",
     "output_type": "stream",
     "text": [
      " 99%|█████████▉| 99/100 [8:26:46<04:10, 250.00s/it]"
     ]
    },
    {
     "name": "stdout",
     "output_type": "stream",
     "text": [
      "[-1.29845, 7.28755, -1.30867, -2.25648, -2.7399, -2.14307]\n",
      "joy\n",
      "217.0 seconds\n",
      "sentence:  i feel that third situation pretty much sums up my feelings toward this title\n"
     ]
    },
    {
     "name": "stderr",
     "output_type": "stream",
     "text": [
      "100%|██████████| 100/100 [8:30:44<00:00, 306.44s/it]"
     ]
    },
    {
     "name": "stdout",
     "output_type": "stream",
     "text": [
      "[-0.424205, 6.0317, -1.90885, -1.59772, -2.15131, -2.2932]\n",
      "joy\n",
      "227.0 seconds\n"
     ]
    },
    {
     "name": "stderr",
     "output_type": "stream",
     "text": [
      "\n"
     ]
    }
   ],
   "source": [
    "from tqdm import tqdm\n",
    "\n",
    "# \n",
    "for i in tqdm(range(100)):\n",
    "    run_fhe_bert_tiny(dataset[i+100])\n",
    "    count+=1"
   ]
  },
  {
   "cell_type": "code",
   "execution_count": 6,
   "metadata": {},
   "outputs": [
    {
     "name": "stdout",
     "output_type": "stream",
     "text": [
      "154\n",
      "[0, 1, 2, 3, 4, 6, 8, 11, 13, 14, 15, 17, 18, 19, 21, 22, 23, 24, 25, 27, 28, 30, 32, 33, 35, 36, 38, 39, 41, 42, 43, 44, 45, 46, 47, 48, 49, 50, 52, 53, 54, 57, 58, 59, 60, 63, 64, 66, 69, 70, 72, 73, 74, 75, 76, 77, 78, 79, 81, 82, 83, 84, 85, 86, 87, 88, 89, 90, 95, 98, 99, 100, 101, 102, 104, 105, 106, 107, 109, 110, 112, 113, 114, 115, 116, 117, 118, 119, 120, 121, 122, 123, 124, 126, 127, 128, 129, 130, 132, 133, 134, 135, 136, 137, 138, 139, 140, 141, 142, 143, 144, 145, 146, 147, 148, 150, 151, 153, 154, 155, 156, 157, 158, 160, 162, 163, 165, 166, 167, 168, 169, 171, 172, 173, 174, 175, 176, 178, 179, 181, 182, 185, 186, 187, 188, 189, 190, 191, 192, 194, 195, 196, 198, 199]\n",
      "46\n",
      "[5, 7, 9, 10, 12, 16, 20, 26, 29, 31, 34, 37, 40, 51, 55, 56, 61, 62, 65, 67, 68, 71, 80, 91, 92, 93, 94, 96, 97, 103, 108, 111, 125, 131, 149, 152, 159, 161, 164, 170, 177, 180, 183, 184, 193, 197]\n"
     ]
    }
   ],
   "source": [
    "print(len(correct))\n",
    "print(correct)\n",
    "print(len(error))\n",
    "print(error)"
   ]
  },
  {
   "cell_type": "code",
   "execution_count": null,
   "metadata": {},
   "outputs": [],
   "source": [
    "import numpy as np\n",
    "np.savetxt(\"output_final_202\", output, delimiter=\",\")"
   ]
  },
  {
   "cell_type": "markdown",
   "metadata": {},
   "source": [
    "end 154/200 77%"
   ]
  },
  {
   "cell_type": "markdown",
   "metadata": {},
   "source": [
    "stop here"
   ]
  },
  {
   "cell_type": "code",
   "execution_count": null,
   "metadata": {},
   "outputs": [],
   "source": [
    "# reload\n",
    "#import numpy as np\n",
    "#test = np.loadtxt(\"output\", delimiter=\",\")\n",
    "#output = test.tolist()\n",
    "#print(len(output))"
   ]
  }
 ],
 "metadata": {
  "kernelspec": {
   "display_name": "env",
   "language": "python",
   "name": "python3"
  },
  "language_info": {
   "codemirror_mode": {
    "name": "ipython",
    "version": 3
   },
   "file_extension": ".py",
   "mimetype": "text/x-python",
   "name": "python",
   "nbconvert_exporter": "python",
   "pygments_lexer": "ipython3",
   "version": "3.12.7"
  }
 },
 "nbformat": 4,
 "nbformat_minor": 2
}
