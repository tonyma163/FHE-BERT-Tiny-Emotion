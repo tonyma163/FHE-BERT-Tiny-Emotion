{
 "cells": [
  {
   "cell_type": "code",
   "execution_count": 1,
   "id": "591beb8b",
   "metadata": {},
   "outputs": [
    {
     "name": "stderr",
     "output_type": "stream",
     "text": [
      "/Users/tonyma/code/FHE-BERT-Tiny-Emotion/env/lib/python3.12/site-packages/tqdm/auto.py:21: TqdmWarning: IProgress not found. Please update jupyter and ipywidgets. See https://ipywidgets.readthedocs.io/en/stable/user_install.html\n",
      "  from .autonotebook import tqdm as notebook_tqdm\n"
     ]
    }
   ],
   "source": [
    "from transformers import AutoModelForSequenceClassification, AutoTokenizer\n",
    "import torch\n",
    "import numpy as np\n",
    "import math\n",
    "from matplotlib import pyplot as plt \n",
    "from datasets import load_dataset\n",
    "import pandas as pd"
   ]
  },
  {
   "cell_type": "code",
   "execution_count": 2,
   "id": "2bff96f9",
   "metadata": {},
   "outputs": [
    {
     "data": {
      "text/plain": [
       "BertForSequenceClassification(\n",
       "  (bert): BertModel(\n",
       "    (embeddings): BertEmbeddings(\n",
       "      (word_embeddings): Embedding(30522, 128, padding_idx=0)\n",
       "      (position_embeddings): Embedding(512, 128)\n",
       "      (token_type_embeddings): Embedding(2, 128)\n",
       "      (LayerNorm): LayerNorm((128,), eps=1e-12, elementwise_affine=True)\n",
       "      (dropout): Dropout(p=0.1, inplace=False)\n",
       "    )\n",
       "    (encoder): BertEncoder(\n",
       "      (layer): ModuleList(\n",
       "        (0-1): 2 x BertLayer(\n",
       "          (attention): BertAttention(\n",
       "            (self): BertSdpaSelfAttention(\n",
       "              (query): Linear(in_features=128, out_features=128, bias=True)\n",
       "              (key): Linear(in_features=128, out_features=128, bias=True)\n",
       "              (value): Linear(in_features=128, out_features=128, bias=True)\n",
       "              (dropout): Dropout(p=0.1, inplace=False)\n",
       "            )\n",
       "            (output): BertSelfOutput(\n",
       "              (dense): Linear(in_features=128, out_features=128, bias=True)\n",
       "              (LayerNorm): LayerNorm((128,), eps=1e-12, elementwise_affine=True)\n",
       "              (dropout): Dropout(p=0.1, inplace=False)\n",
       "            )\n",
       "          )\n",
       "          (intermediate): BertIntermediate(\n",
       "            (dense): Linear(in_features=128, out_features=512, bias=True)\n",
       "            (intermediate_act_fn): GELUActivation()\n",
       "          )\n",
       "          (output): BertOutput(\n",
       "            (dense): Linear(in_features=512, out_features=128, bias=True)\n",
       "            (LayerNorm): LayerNorm((128,), eps=1e-12, elementwise_affine=True)\n",
       "            (dropout): Dropout(p=0.1, inplace=False)\n",
       "          )\n",
       "        )\n",
       "      )\n",
       "    )\n",
       "    (pooler): BertPooler(\n",
       "      (dense): Linear(in_features=128, out_features=128, bias=True)\n",
       "      (activation): Tanh()\n",
       "    )\n",
       "  )\n",
       "  (dropout): Dropout(p=0.1, inplace=False)\n",
       "  (classifier): Linear(in_features=128, out_features=6, bias=True)\n",
       ")"
      ]
     },
     "execution_count": 2,
     "metadata": {},
     "output_type": "execute_result"
    }
   ],
   "source": [
    "#The same as https://huggingface.co/google/bert_uncased_L-2_H-128_A-2\n",
    "\n",
    "# Load fine-tuned model\n",
    "tokenizer = AutoTokenizer.from_pretrained(\"gokuls/BERT-tiny-emotion-intent\")\n",
    "model = AutoModelForSequenceClassification.from_pretrained(\"gokuls/BERT-tiny-emotion-intent\")\n",
    "\n",
    "model.eval()"
   ]
  },
  {
   "cell_type": "code",
   "execution_count": 3,
   "id": "6a998ae5",
   "metadata": {},
   "outputs": [],
   "source": [
    "def precision(correct, approx):\n",
    "    if type(approx) == list:\n",
    "        approx = np.array(approx)\n",
    "    absolute = sum(abs(correct - approx))/len(correct)\n",
    "    relative = absolute / (sum(abs(correct))/len(correct))\n",
    "    return 1 - relative"
   ]
  },
  {
   "cell_type": "code",
   "execution_count": 4,
   "id": "f98925ec",
   "metadata": {},
   "outputs": [],
   "source": [
    "def softmax_contribuisci(x, index = 1):\n",
    "    if index == 1:\n",
    "        input_exp_1.append(torch.max(x).item())\n",
    "        input_exp_1.append(torch.min(x).item())\n",
    "    else:\n",
    "        input_exp_2.append(torch.max(x).item())\n",
    "        input_exp_2.append(torch.min(x).item())\n",
    "    \n",
    "    for head in x.squeeze():\n",
    "        for row in head:\n",
    "            if index == 1:\n",
    "                input_inv_1.append(torch.sum(torch.exp(row)).item())\n",
    "            else:\n",
    "                input_inv_2.append(torch.sum(torch.exp(row)).item())\n",
    "                \n",
    "    return torch.softmax(x, -1)"
   ]
  },
  {
   "cell_type": "code",
   "execution_count": 5,
   "id": "ea94b047",
   "metadata": {},
   "outputs": [],
   "source": [
    "# Load train dataset\n",
    "dataset = load_dataset(\"dair-ai/emotion\", split=\"train\")"
   ]
  },
  {
   "cell_type": "code",
   "execution_count": 6,
   "id": "66163b63",
   "metadata": {},
   "outputs": [
    {
     "name": "stderr",
     "output_type": "stream",
     "text": [
      "  0%|          | 0/16000 [00:00<?, ?it/s]"
     ]
    },
    {
     "name": "stderr",
     "output_type": "stream",
     "text": [
      "100%|██████████| 16000/16000 [1:06:32<00:00,  4.01it/s]\n"
     ]
    }
   ],
   "source": [
    "from tqdm import tqdm\n",
    "\n",
    "input_exp_1 = []\n",
    "input_inv_1 = []\n",
    "input_gelu_1 = np.array([])\n",
    "input_exp_2 = []\n",
    "input_inv_2 = []\n",
    "input_gelu_2 = np.array([])\n",
    "input_tanh = np.array([])\n",
    "\n",
    "fhe_correct = 0\n",
    "fhe_wrong = 0\n",
    "\n",
    "fhe_accuracy = 0\n",
    "std_accuracy = 0\n",
    "\n",
    "for ind in tqdm(range(len(dataset))):\n",
    "    text = \"[CLS] \" + dataset['text'][ind] + \" [SEP]\"\n",
    "\n",
    "    tokenized = tokenizer(text)\n",
    "    tokenized_text = tokenizer.tokenize(text)\n",
    "    indexed_tokens = tokenizer.convert_tokens_to_ids(tokenized_text)\n",
    "    tokens_tensor = torch.tensor([indexed_tokens])\n",
    "        \n",
    "    x = model.bert.embeddings(tokens_tensor, torch.tensor([[1] * len(tokenized_text)]))\n",
    "\n",
    "    key = model.bert.encoder.layer[0].attention.self.key.weight.clone().detach().double().transpose(0, 1)\n",
    "    query = model.bert.encoder.layer[0].attention.self.query.weight.clone().detach().double().transpose(0, 1)\n",
    "    value = model.bert.encoder.layer[0].attention.self.value.weight.clone().detach().double().transpose(0, 1)\n",
    "\n",
    "    key_bias = model.bert.encoder.layer[0].attention.self.key.bias.clone().detach().double()\n",
    "    query_bias = model.bert.encoder.layer[0].attention.self.query.bias.clone().detach().double()\n",
    "    value_bias = model.bert.encoder.layer[0].attention.self.value.bias.clone().detach().double()\n",
    "\n",
    "    original_input_tensor = x.double()\n",
    "\n",
    "    input_tensor = x.double()\n",
    "\n",
    "    q = torch.matmul(input_tensor, query) + query_bias\n",
    "    k = torch.matmul(input_tensor, key) + key_bias\n",
    "    v = torch.matmul(input_tensor, value) + value_bias\n",
    "\n",
    "    q = q.reshape([1, input_tensor.size()[1], 2, 64])\n",
    "    k = k.reshape([1, input_tensor.size()[1], 2, 64])\n",
    "    v = v.reshape([1, input_tensor.size()[1], 2, 64])\n",
    "\n",
    "    q = q.permute([0, 2, 1, 3])\n",
    "    k = k.permute([0, 2, 3, 1])\n",
    "\n",
    "    qk = torch.matmul(q, k)\n",
    "    qk = qk / 8\n",
    "\n",
    "    qk_softmaxed = softmax_contribuisci(qk)\n",
    "\n",
    "    v = v.permute([0, 2, 1, 3])\n",
    "\n",
    "    fin = torch.matmul(qk_softmaxed, v)\n",
    "    fin = fin.permute([0, 2, 1, 3])\n",
    "    fin = fin.reshape([1, input_tensor.size()[1], 128])\n",
    "    \n",
    "    #mean = np.array([-0.03383045433490704, -0.04689138747464171, -0.04320052751297194, -0.04194874763842685, -0.03849735236740709, -0.03583471496309556, -0.036673685450259945, -0.03533623114666153, -0.03301200050649906, -0.03385619903604035, -0.03394064677150061, -0.03581378040060232, -0.04000193681582013, -0.042994980738727644, -0.042689484809151766, -0.0422699887342667, -0.040702211423783496, -0.043257636922742766, -0.040924377288572664, -0.04212762593354266, -0.040090620729304687, -0.03727317047412721, -0.030603299343800818, -0.034141189654495016, -0.03468711091296442, -0.032307857857310274, -0.02926372943560165, -0.031292906450152466, -0.037837883896213766, -0.03745859562807607, -0.03794657692710982, -0.03860214509229593, -0.036185650111238955, -0.039154371235979875, -0.03589729976884486, -0.031731895884233016, -0.03465287223481833, -0.031348414682812194, -0.03688161652969029, -0.03338290816163936, -0.038240660222183975, -0.037525466450406116, -0.038229222217722264, -0.041201914113547705, -0.04212576296359885, -0.03980083151775188, -0.04072657806877826, -0.040145599490268025, -0.036685242667777444, -0.034109016054392725, -0.03544325775104831, -0.03623692053970561, -0.04948334692050963, -0.04596823422981405, -0.04892271117435003])\n",
    "    #var = np.array([0.7495962428549272, 0.6109555428467895, 0.6225590467577651, 0.62495153067201, 0.631395549935461, 0.634492711694546, 0.644892789064359, 0.6542099965205022, 0.6595559062153842, 0.6659906881037033, 0.6680168012366937, 0.6758412527257586, 0.6668118068796066, 0.6718192460326265, 0.67786737736941, 0.6808577853930836, 0.6736657333151266, 0.6676446046843724, 0.6659979061989304, 0.6743226078654423, 0.681388263935704, 0.6837117808950258, 0.6907147768934253, 0.684537831509984, 0.6896744328697597, 0.6916627127801457, 0.6954043965468235, 0.6954046755145293, 0.7001025287354249, 0.695094327647078, 0.6854203403085795, 0.7027792682295838, 0.6956849098218769, 0.6945153573872891, 0.6856697060013522, 0.6897353511373785, 0.700668908202082, 0.6965624918742969, 0.7082690699456209, 0.7043163331126293, 0.7070770512949652, 0.7042510307314358, 0.6978925459183357, 0.7205035876616076, 0.6902461198740245, 0.686971254827903, 0.7028843270104062, 0.7032880792671149, 0.7057843340136714, 0.7104860015626775, 0.7321738164781159, 0.71095817492914, 0.7401485084476891, 0.7312957890728539, 0.7375994654874705])\n",
    "    mean = np.loadtxt(\"../emotion-precompute/layer0_selfoutput_mean.txt\", delimiter=\",\")\n",
    "    var = np.loadtxt(\"../emotion-precompute/layer0_selfoutput_var.txt\", delimiter=\",\")\n",
    "    \n",
    "    w_output_dense = model.bert.encoder.layer[0].attention.output.dense.weight.clone().detach().double().transpose(0, 1)\n",
    "    b_output_dense = model.bert.encoder.layer[0].attention.output.dense.bias.clone().detach().double()\n",
    "\n",
    "    fin2 = torch.matmul(fin, w_output_dense) + b_output_dense\n",
    "    fin2_backup = fin2.clone()\n",
    "    fin2_backup = fin2_backup + original_input_tensor\n",
    "\n",
    "    fin3_whole = []\n",
    "\n",
    "    for i in range(len(original_input_tensor.squeeze())):\n",
    "        fin2 = fin2_backup.squeeze()[i]\n",
    "        fin3_corr = (fin2.squeeze().detach() - mean[i]) * var[i]\n",
    "\n",
    "        w_output_layernorm = model.bert.encoder.layer[0].attention.output.LayerNorm.weight.clone().detach().double().unsqueeze(0)\n",
    "        b_output_layernorm = model.bert.encoder.layer[0].attention.output.LayerNorm.bias.clone().detach().double()\n",
    "\n",
    "        fin3_corr = fin3_corr * w_output_layernorm + b_output_layernorm\n",
    "        fin3_whole.append(fin3_corr.detach())\n",
    "\n",
    "    fin3_whole = torch.cat(tuple(fin3_whole), 0).unsqueeze(0)\n",
    "    fin_4 = torch.matmul(fin3_whole, model.bert.encoder.layer[0].intermediate.dense.weight.transpose(0, 1).double()) + model.bert.encoder.layer[0].intermediate.dense.bias\n",
    "\n",
    "    input_gelu_1 = np.append(input_gelu_1, fin_4.reshape(-1).detach().numpy())\n",
    "    \n",
    "    fin_5 = torch.nn.functional.gelu(fin_4)\n",
    "    fin_6 = torch.matmul(fin_5, model.bert.encoder.layer[0].output.dense.weight.transpose(0, 1).double()) + model.bert.encoder.layer[0].output.dense.bias\n",
    "    fin_6 = fin_6 + fin3_whole\n",
    "    \n",
    "    #mean = np.array([-0.09545516102868973, 0.034540955180462664, 0.03934738149667437, 0.040802318439555035, 0.04426037798445811, 0.04919343175846099, 0.0493616301294401, 0.047896279398118795, 0.04912640635535303, 0.048717249992826256, 0.0477219385203478, 0.05095357678578503, 0.05094908370417657, 0.0493275745992752, 0.048418324664654545, 0.0473653504669205, 0.04528009986283869, 0.04524247257539856, 0.046555073355952846, 0.0516135997743503, 0.049103903254210594, 0.048877585502238356, 0.048364988370661784, 0.049043507301742846, 0.049933470462367846, 0.05175179126331398, 0.05057227793143223, 0.055763206569478994, 0.055243365455213404, 0.04986745821758072, 0.047789218698650125, 0.047852162700887234, 0.04279460740337753, 0.04280733225675328, 0.04644169155736491, 0.04783492130826333, 0.04759649093761958, 0.045252139153821, 0.04367184005341422, 0.039034762655413016, 0.04374965234639466, 0.04355128435775863, 0.04499861862695065, 0.04318602336450084, 0.04549296197766528, 0.03907804279518851, 0.037683132925437485, 0.04109696491189214, 0.04410155617431274, 0.05015992918511731, 0.04335430986396108, 0.046492484403760526, 0.044277581701870204, 0.03723061917091777, 0.039156973130334664])\n",
    "    #var = np.array([0.4156698594967092, 0.7008452266859936, 0.7214270983257646, 0.7095727482866087, 0.7102521835201318, 0.710293676073547, 0.7091783271698753, 0.6973493176419543, 0.7011688527520855, 0.7007704875343309, 0.6950537183089973, 0.6948029158092094, 0.6919309911197036, 0.6933694537037308, 0.6970711644923971, 0.7004276850010867, 0.6964234913676165, 0.6987678419874651, 0.6951829293138483, 0.6973048809142951, 0.6989420799277399, 0.7005696487948311, 0.6993937733493811, 0.6902070532566239, 0.6958399824203775, 0.6900361005407983, 0.6925891359742274, 0.6831642926666377, 0.6865279710039072, 0.6904370385593245, 0.6963724536275457, 0.6948942601360332, 0.6784634186071326, 0.6759657478656234, 0.6828578884489792, 0.683566347862741, 0.6857777074044566, 0.672040915409448, 0.6784995422914343, 0.6732453264186854, 0.683881765911935, 0.6909411690410042, 0.6715428435769978, 0.6775867807314924, 0.6785015863916147, 0.676156117696202, 0.6786376609996214, 0.6763771062984715, 0.7119440584663215, 0.7070342067744777, 0.6895996022331654, 0.6683970656272868, 0.6695013664908844, 0.6566575067124804, 0.672887703816164])\n",
    "    mean = np.loadtxt(\"../emotion-precompute/layer0_output_mean.txt\", delimiter=\",\")\n",
    "    var = np.loadtxt(\"../emotion-precompute/layer0_output_var.txt\", delimiter=\",\")\n",
    "    \n",
    "    fin7_whole = []\n",
    "\n",
    "    for i in range(len(input_tensor.squeeze())):\n",
    "        fin_7 = fin_6.squeeze()[i]\n",
    "\n",
    "        fin7_corr = (fin_7.squeeze().detach() - mean[i]) * var[i]\n",
    "\n",
    "        w_output_layernorm = model.bert.encoder.layer[0].output.LayerNorm.weight.clone().detach().double().unsqueeze(0)\n",
    "        b_output_layernorm = model.bert.encoder.layer[0].output.LayerNorm.bias.clone().detach().double()\n",
    "\n",
    "        fin7_corr = fin7_corr * w_output_layernorm + b_output_layernorm\n",
    "\n",
    "        fin7_whole.append(fin7_corr.detach())\n",
    "\n",
    "    fin7_whole = torch.cat(tuple(fin7_whole), 0).unsqueeze(0)\n",
    "    \n",
    "    real = model.bert.encoder.layer[0](x)[0].transpose(1, 2).reshape(-1).detach()\n",
    "    \n",
    "    #print(\"Precision: {}\".format(precision(real, fin7_whole[0].transpose(0, 1).reshape(-1).detach())))\n",
    "    \n",
    "    key = model.bert.encoder.layer[1].attention.self.key.weight.clone().detach().double().transpose(0, 1)\n",
    "    query = model.bert.encoder.layer[1].attention.self.query.weight.clone().detach().double().transpose(0, 1)\n",
    "    value = model.bert.encoder.layer[1].attention.self.value.weight.clone().detach().double().transpose(0, 1)\n",
    "\n",
    "    key_bias = model.bert.encoder.layer[1].attention.self.key.bias.clone().detach().double()\n",
    "    query_bias = model.bert.encoder.layer[1].attention.self.query.bias.clone().detach().double()\n",
    "    value_bias = model.bert.encoder.layer[1].attention.self.value.bias.clone().detach().double()\n",
    "\n",
    "    original_input_tensor = fin7_whole\n",
    "    input_tensor = fin7_whole\n",
    "\n",
    "    q = torch.matmul(input_tensor, query) + query_bias\n",
    "    k = torch.matmul(input_tensor, key) + key_bias\n",
    "    v = torch.matmul(input_tensor, value) + value_bias\n",
    "\n",
    "    q = q.reshape([1, input_tensor.size()[1], 2, 64])\n",
    "    k = k.reshape([1, input_tensor.size()[1], 2, 64])\n",
    "    v = v.reshape([1, input_tensor.size()[1], 2, 64])\n",
    "\n",
    "    q = q.permute([0, 2, 1, 3])\n",
    "    k = k.permute([0, 2, 3, 1])\n",
    "\n",
    "    qk = torch.matmul(q, k)\n",
    "    qk = qk / 8\n",
    "\n",
    "    qk_softmaxed = softmax_contribuisci(qk, 2)\n",
    "\n",
    "    v = v.permute([0, 2, 1, 3])\n",
    "\n",
    "    fin = torch.matmul(qk_softmaxed, v)\n",
    "    fin = fin.permute([0, 2, 1, 3])\n",
    "    fin = fin.reshape([1, input_tensor.size()[1], 128])\n",
    "    \n",
    "    #mean = np.array([0.04805131047475803, 0.014145706172069285, 0.010630181813540026, 0.010521146572975027, 0.00956244983947186, 0.008211288558782809, 0.008817800275674387, 0.008911457532306733, 0.008643898058317862, 0.008801769546523253, 0.009472254700839258, 0.008094415948174241, 0.007702615754430344, 0.005460620353838359, 0.007021847370084451, 0.008373831982472147, 0.01022061224155272, 0.00927594903773269, 0.009277225000069925, 0.007049453120897054, 0.008682554190420182, 0.008749022040809715, 0.010118317324741522, 0.008998865743435887, 0.008763833543884292, 0.008285728555981435, 0.006967351876718886, 0.00588068616144895, 0.0030701809065725363, 0.003659716972971551, 0.002116778487431024, 0.003947434346765913, 0.006907859825079262, 0.008494112860837831, 0.007040283968419036, 0.007197681884381672, 0.008232685835987293, 0.009965029801574864, 0.00731962961637719, 0.00830555309310382, 0.005340440177451385, 0.007833324368720607, 0.01047456825511633, 0.009674864773662995, 0.010093537461664302, 0.01588798917017868, 0.018537933333636507, 0.018245848282989877, 0.012253993810893607, 0.011354133953173591, 0.013474744814287221, 0.013707011955501919, 0.007918842609048385, 0.017240907760895086, 0.03465881962238184])\n",
    "    #var = np.array([0.6741653046411179, 0.602392389437227, 0.5945841451997256, 0.5997135932136959, 0.6033806506910513, 0.6064839949503851, 0.6058735285405447, 0.6059001754921257, 0.6086086189801689, 0.6118981975241923, 0.6161533101614306, 0.6105411757987637, 0.6102443339235957, 0.6004337682468068, 0.6068584434133084, 0.6123178593290803, 0.6150302868629213, 0.6102744641580546, 0.6143169356654037, 0.6105845722771672, 0.61540315154488, 0.622109065598561, 0.6221720668578823, 0.6279330579960701, 0.6282907135959079, 0.6258439179151315, 0.6187239026398644, 0.618294817104495, 0.609488586748927, 0.6085185174201381, 0.6154275326252285, 0.6207534846328591, 0.6290521066315713, 0.6375810334496135, 0.6238236165346044, 0.6310571465398529, 0.6350551779511981, 0.6452639043477173, 0.6346915398812409, 0.646622546259538, 0.6435498445423712, 0.6401589932559348, 0.6458833892517316, 0.6354378204804867, 0.651796667347259, 0.6547600574517144, 0.6554038815336571, 0.655910889886979, 0.6412602949793637, 0.6489736968517984, 0.6633309254993116, 0.6771441398382873, 0.6423362709438692, 0.6302863730404997, 0.5940213893371686])\n",
    "    mean = np.loadtxt(\"../emotion-precompute/layer1_selfoutput_mean.txt\", delimiter=\",\")\n",
    "    var = np.loadtxt(\"../emotion-precompute/layer1_selfoutput_var.txt\", delimiter=\",\")\n",
    "    \n",
    "    w_output_dense = model.bert.encoder.layer[1].attention.output.dense.weight.clone().detach().double().transpose(0, 1)\n",
    "    b_output_dense = model.bert.encoder.layer[1].attention.output.dense.bias.clone().detach().double()\n",
    "\n",
    "    fin2 = torch.matmul(fin, w_output_dense) + b_output_dense\n",
    "    fin2_backup = fin2.clone()\n",
    "    fin2_backup = fin2_backup + original_input_tensor\n",
    "\n",
    "    fin3_whole = []\n",
    "\n",
    "    for i in range(len(original_input_tensor.squeeze())):\n",
    "        fin2 = fin2_backup.squeeze()[i]\n",
    "\n",
    "        fin3_corr = (fin2.squeeze().detach() - mean[i]) * var[i]\n",
    "\n",
    "        #TODO QUA STO USANDO I VERI VALORI!!!!\n",
    "        #fin3_corr = (fin2.squeeze().detach() - torch.mean(fin2.squeeze())) / math.sqrt(torch.var(fin2.squeeze()))\n",
    "\n",
    "        w_output_layernorm = model.bert.encoder.layer[1].attention.output.LayerNorm.weight.clone().detach().double().unsqueeze(0)\n",
    "        b_output_layernorm = model.bert.encoder.layer[1].attention.output.LayerNorm.bias.clone().detach().double()\n",
    "\n",
    "        fin3_corr = fin3_corr * w_output_layernorm + b_output_layernorm\n",
    "        fin3_whole.append(fin3_corr.detach())\n",
    "\n",
    "    fin3_whole = torch.cat(tuple(fin3_whole), 0).unsqueeze(0)\n",
    "    fin_4 = torch.matmul(fin3_whole, model.bert.encoder.layer[1].intermediate.dense.weight.transpose(0, 1).double()) + model.bert.encoder.layer[1].intermediate.dense.bias\n",
    "\n",
    "    input_gelu_2 = np.append(input_gelu_2, fin_4.reshape(-1).detach().numpy())\n",
    "    \n",
    "    fin_5 = torch.nn.functional.gelu(fin_4)\n",
    "    \n",
    "    fin_6 = torch.matmul(fin_5, model.bert.encoder.layer[1].output.dense.weight.transpose(0, 1).double()) + model.bert.encoder.layer[1].output.dense.bias\n",
    "    fin_6 = fin_6 + fin3_whole\n",
    "    \n",
    "    fin7_whole = []\n",
    "    \n",
    "    mean = np.loadtxt(\"../emotion-precompute/layer1_output_mean.txt\", delimiter=\",\")\n",
    "    var = np.loadtxt(\"../emotion-precompute/layer1_output_var.txt\", delimiter=\",\")\n",
    "\n",
    "    for i in range(len(input_tensor.squeeze())):\n",
    "        fin_7 = fin_6.squeeze()[i]\n",
    "\n",
    "        fin7_corr = (fin_7.squeeze().detach() - mean[i]) * var[i]\n",
    "\n",
    "        w_output_layernorm = model.bert.encoder.layer[1].output.LayerNorm.weight.clone().detach().double().unsqueeze(0)\n",
    "        b_output_layernorm = model.bert.encoder.layer[1].output.LayerNorm.bias.clone().detach().double()\n",
    "\n",
    "        fin7_corr = fin7_corr * w_output_layernorm + b_output_layernorm\n",
    "\n",
    "        fin7_whole.append(fin7_corr.detach())\n",
    "\n",
    "    fin7_whole = torch.cat(tuple(fin7_whole), 0).unsqueeze(0)\n",
    "\n",
    "    real = model.bert.encoder.layer[1](model.bert.encoder.layer[0](x)[0])[0].transpose(1, 2).reshape(-1).detach()\n",
    "    correct = fin7_whole[0].transpose(0, 1).reshape(-1).detach()\n",
    "\n",
    "    input_tanh = np.append(input_tanh, (torch.matmul(fin7_whole.double(), model.bert.pooler.dense.weight.transpose(0, 1).double()) + model.bert.pooler.dense.bias).reshape(-1).detach())\n",
    "    \n",
    "    #print(\"Precision: {}\".format(precision(real, correct)))\n",
    "    densed_pooler = torch.tanh(torch.matmul(fin7_whole.double(), model.bert.pooler.dense.weight.transpose(0, 1).double()) + model.bert.pooler.dense.bias)\n",
    "\n",
    "    approx = densed_pooler[0][0].detach()\n",
    "    precise = model.bert.pooler(model.bert.encoder(x)[0]).detach()[0]\n",
    "\n",
    "    #print(precision(precise, approx))\n",
    "    \n",
    "    output = torch.matmul(approx, model.classifier.weight.transpose(0, 1).double()) + model.classifier.bias.double()\n",
    "    output_real = model(tokens_tensor, torch.tensor([[1] * len(tokenized_text)])).logits[0].detach()\n",
    "    \n",
    "    \"\"\"if output[0].item() > output[1].item() and output_real[0].item() > output_real[1].item():\n",
    "        fhe_correct = fhe_correct + 1\n",
    "    elif output[0].item() < output[1].item() and output_real[0].item() < output_real[1].item():\n",
    "        fhe_correct = fhe_correct + 1\n",
    "    else:\n",
    "        fhe_wrong = fhe_wrong + 1\n",
    "        \n",
    "    if output[0].item() > output[1].item() and dataset['label'][ind] == 0:\n",
    "        fhe_accuracy = fhe_accuracy + 1\n",
    "    if output[0].item() < output[1].item() and dataset['label'][ind] == 1:\n",
    "        fhe_accuracy = fhe_accuracy + 1\n",
    "        \n",
    "    if output_real[0].item() > output_real[1].item() and dataset['label'][ind] == 0:\n",
    "        std_accuracy = std_accuracy + 1\n",
    "    if output_real[0].item() < output_real[1].item() and dataset['label'][ind] == 1:\n",
    "        std_accuracy = std_accuracy + 1\"\"\"\n",
    "        \n",
    "    # Multi-labels classification\n",
    "    predicted = torch.argmax(output).item()\n",
    "    predicted_real = torch.argmax(output_real).item()\n",
    "\n",
    "    if predicted == dataset['label'][ind]:\n",
    "      fhe_accuracy += 1\n",
    "\n",
    "    if predicted_real == dataset['label'][ind]:\n",
    "      fhe_correct += 1\n",
    "    else:\n",
    "      fhe_wrong += 1\n",
    "\n",
    "    if predicted_real == dataset['label'][ind]:\n",
    "      std_accuracy += 1"
   ]
  },
  {
   "cell_type": "code",
   "execution_count": 7,
   "id": "22fdfd99",
   "metadata": {},
   "outputs": [
    {
     "name": "stdout",
     "output_type": "stream",
     "text": [
      "Standard model accuracy:    0.9811875\n",
      "Precomputed model accuracy: 0.9170625\n"
     ]
    }
   ],
   "source": [
    "print(\"Standard model accuracy:    {}\\nPrecomputed model accuracy: {}\".format(std_accuracy / len(dataset), fhe_accuracy / len(dataset)))"
   ]
  },
  {
   "cell_type": "code",
   "execution_count": 8,
   "id": "aa05f2a8",
   "metadata": {},
   "outputs": [
    {
     "name": "stdout",
     "output_type": "stream",
     "text": [
      "1.6346457565421662\n",
      "25030.74506910946\n"
     ]
    },
    {
     "data": {
      "image/png": "[encoded data removed]",
      "text/plain": [
       "<Figure size 640x480 with 1 Axes>"
      ]
     },
     "metadata": {},
     "output_type": "display_data"
    }
   ],
   "source": [
    "plt.title(\"Encoder 1 - Inverse 1/x\")\n",
    "plt.plot(input_inv_1)\n",
    "print(min(input_inv_1))\n",
    "print(max(input_inv_1))"
   ]
  },
  {
   "cell_type": "code",
   "execution_count": 9,
   "id": "5f8f6bd9",
   "metadata": {},
   "outputs": [
    {
     "name": "stdout",
     "output_type": "stream",
     "text": [
      "-13.774298556042707\n",
      "11.144940974830211\n"
     ]
    },
    {
     "data": {
      "image/png": "[encoded data removed]",
      "text/plain": [
       "<Figure size 640x480 with 1 Axes>"
      ]
     },
     "metadata": {},
     "output_type": "display_data"
    }
   ],
   "source": [
    "plt.title(\"Encoder 1 - GELU\")\n",
    "input_gelu_1 = np.array(input_gelu_1).reshape(-1)\n",
    "#plt.plot(input_gelu_1)\n",
    "print(min(input_gelu_1))\n",
    "print(max(input_gelu_1))"
   ]
  },
  {
   "cell_type": "code",
   "execution_count": 10,
   "id": "ee137645",
   "metadata": {},
   "outputs": [
    {
     "name": "stdout",
     "output_type": "stream",
     "text": [
      "1.3106361358509424\n",
      "68336.18390395067\n"
     ]
    },
    {
     "data": {
      "image/png": "[encoded data removed]",
      "text/plain": [
       "<Figure size 640x480 with 1 Axes>"
      ]
     },
     "metadata": {},
     "output_type": "display_data"
    }
   ],
   "source": [
    "plt.title(\"Encoder 2 - Inverse 1/x\")\n",
    "plt.plot(input_inv_2)\n",
    "print(min(input_inv_2))\n",
    "print(max(input_inv_2))"
   ]
  },
  {
   "cell_type": "code",
   "execution_count": 11,
   "id": "b985f03a",
   "metadata": {},
   "outputs": [
    {
     "name": "stdout",
     "output_type": "stream",
     "text": [
      "-16.363307892965764\n",
      "14.74399828966965\n"
     ]
    },
    {
     "data": {
      "image/png": "[encoded data removed]",
      "text/plain": [
       "<Figure size 640x480 with 1 Axes>"
      ]
     },
     "metadata": {},
     "output_type": "display_data"
    }
   ],
   "source": [
    "plt.title(\"Encoder 2 - GELU\")\n",
    "input_gelu_2 = np.array(input_gelu_2).reshape(-1)\n",
    "print(min(input_gelu_2))\n",
    "print(max(input_gelu_2))"
   ]
  },
  {
   "cell_type": "code",
   "execution_count": 12,
   "id": "a1949fe2",
   "metadata": {},
   "outputs": [
    {
     "name": "stdout",
     "output_type": "stream",
     "text": [
      "-29.22983404027425\n",
      "28.657682344772777\n"
     ]
    },
    {
     "data": {
      "image/png": "[encoded data removed]",
      "text/plain": [
       "<Figure size 640x480 with 1 Axes>"
      ]
     },
     "metadata": {},
     "output_type": "display_data"
    }
   ],
   "source": [
    "plt.title(\"Pooler - Tanh\")\n",
    "print(min(input_tanh))\n",
    "print(max(input_tanh))"
   ]
  },
  {
   "cell_type": "markdown",
   "id": "306fe57d",
   "metadata": {},
   "source": [
    "# Find degrees of each non-linear function"
   ]
  },
  {
   "cell_type": "code",
   "execution_count": 13,
   "id": "067282c2",
   "metadata": {},
   "outputs": [],
   "source": [
    "import numpy as np\n",
    "from numpy.polynomial import Chebyshev\n",
    "\n",
    "def chebyshev_nodes(a, b, n):\n",
    "    i = np.arange(n)\n",
    "    \n",
    "    return 0.5*(a + b) + 0.5*(b - a)*np.cos((2*i + 1)/(2*n)*np.pi)\n",
    "\n",
    "def find_optimal_degree(func, interval, max_degree, desired_max_error, num_points):\n",
    "    x_min, x_max = interval\n",
    "    degrees = list(range(1, max_degree + 1))\n",
    "    max_errors = []\n",
    "    \n",
    "    x_values = chebyshev_nodes(x_min, x_max, num_points)\n",
    "    y_true = func(x_values)\n",
    "    \n",
    "    for degree in degrees:\n",
    "        \n",
    "        cheb = Chebyshev.fit(x_values, y_true, deg=degree, domain=interval)\n",
    "        \n",
    "        y_approx = cheb(x_values)\n",
    "        \n",
    "        max_error = np.max(np.abs(y_true - y_approx))\n",
    "        max_errors.append(max_error)\n",
    "        \n",
    "        if max_error <= desired_max_error:\n",
    "            return degree\n",
    "        \n",
    "    return None"
   ]
  },
  {
   "cell_type": "code",
   "execution_count": 14,
   "id": "0ccda7a3",
   "metadata": {},
   "outputs": [
    {
     "name": "stdout",
     "output_type": "stream",
     "text": [
      "degree_inv_1 398\n",
      "degree_inv_2 758\n",
      "degree_gelu_1 38\n",
      "degree_gelu_2 48\n",
      "degree_tanh 132\n"
     ]
    }
   ],
   "source": [
    "def func_inv(x):\n",
    "    return 1 / x\n",
    "\n",
    "def func_gelu(x):\n",
    "    return 0.5 * x * (1 + np.tanh(np.sqrt(2 / np.pi) * (x + 0.044715 * x**3)))\n",
    "\n",
    "def func_tanh(x):\n",
    "    return np.tanh(x)\n",
    "\n",
    "\n",
    "interval_inv_1 = [1.63, 25030.75]\n",
    "interval_inv_2 = [1.31, 68336.18]\n",
    "interval_gelu_1 = [-13.77, 11.14]\n",
    "interval_gelu_2 = [-16.36, 14.74]\n",
    "interval_tanh = [-29.23, 28.66]\n",
    "\n",
    "degree_inv_1 = find_optimal_degree(func_inv, interval_inv_1, max_degree=2031, desired_max_error=0.001, num_points=20000)\n",
    "degree_inv_2 = find_optimal_degree(func_inv, interval_inv_2, max_degree=2031, desired_max_error=0.001, num_points=20000)\n",
    "degree_gelu_1 = find_optimal_degree(func_gelu, interval_gelu_1, max_degree=2031, desired_max_error=0.001, num_points=20000)\n",
    "degree_gelu_2 = find_optimal_degree(func_gelu, interval_gelu_2, max_degree=2031, desired_max_error=0.001, num_points=20000)\n",
    "degree_tanh = find_optimal_degree(func_tanh, interval_tanh, max_degree=2031, desired_max_error=0.001, num_points=20000)\n",
    "\n",
    "print(\"degree_inv_1\", degree_inv_1)\n",
    "print(\"degree_inv_2\", degree_inv_2)\n",
    "print(\"degree_gelu_1\", degree_gelu_1)\n",
    "print(\"degree_gelu_2\", degree_gelu_2)\n",
    "print(\"degree_tanh\", degree_tanh)"
   ]
  },
  {
   "cell_type": "markdown",
   "id": "a369bb33",
   "metadata": {},
   "source": [
    "# Find optimal degrees of 1/x"
   ]
  },
  {
   "cell_type": "markdown",
   "id": "c7ac0e15",
   "metadata": {},
   "source": [
    "# Try to find the distribution of the samples"
   ]
  },
  {
   "cell_type": "code",
   "execution_count": 15,
   "id": "61caabd4",
   "metadata": {},
   "outputs": [],
   "source": [
    "import numpy as np\n",
    "\n",
    "def calculate_percentiles(data, percentiles):\n",
    "    return np.percentile(data, percentiles)\n",
    "\n",
    "percentiles = [25, 50, 75, 80, 85, 90, 95, 97, 99, 99.9, 99.99, 99.9995, 99.9999, 100]"
   ]
  },
  {
   "cell_type": "code",
   "execution_count": 16,
   "id": "75169471",
   "metadata": {},
   "outputs": [
    {
     "name": "stdout",
     "output_type": "stream",
     "text": [
      "25th percentile: 66.11861583287318\n",
      "50th percentile: 172.1000627574125\n",
      "75th percentile: 379.9058656012902\n",
      "80th percentile: 444.1075614889038\n",
      "85th percentile: 526.6689636695762\n",
      "90th percentile: 645.8823168707361\n",
      "95th percentile: 879.6929220475951\n",
      "97th percentile: 1089.2206893660311\n",
      "99th percentile: 1781.059064352791\n",
      "99.9th percentile: 4670.440189082433\n",
      "99.99th percentile: 8973.86437759667\n",
      "99.9995th percentile: 15638.536553515189\n",
      "99.9999th percentile: 23951.626179698244\n",
      "100th percentile: 25030.74506910946\n"
     ]
    }
   ],
   "source": [
    "input_inv_1_array = np.array(input_inv_1)\n",
    "\n",
    "input_inv_1_percentile_values = calculate_percentiles(input_inv_1_array, percentiles)\n",
    "\n",
    "for p, v in zip(percentiles, input_inv_1_percentile_values):\n",
    "    print(f\"{p}th percentile: {v}\")"
   ]
  },
  {
   "cell_type": "code",
   "execution_count": 17,
   "id": "6735913c",
   "metadata": {},
   "outputs": [
    {
     "name": "stdout",
     "output_type": "stream",
     "text": [
      "25th percentile: 140.6725805998377\n",
      "50th percentile: 270.9944978757003\n",
      "75th percentile: 504.3075004277784\n",
      "80th percentile: 588.0193949432617\n",
      "85th percentile: 703.4388742782112\n",
      "90th percentile: 882.9325684337604\n",
      "95th percentile: 1249.634981078321\n",
      "97th percentile: 1582.8286221652518\n",
      "99th percentile: 2520.7222853354533\n",
      "99.9th percentile: 6514.893871983688\n",
      "99.99th percentile: 16542.93915564969\n",
      "99.9995th percentile: 42904.56600953443\n",
      "99.9999th percentile: 62832.264204450374\n",
      "100th percentile: 68336.18390395067\n"
     ]
    }
   ],
   "source": [
    "input_inv_2_array = np.array(input_inv_2)\n",
    "\n",
    "input_inv_2_percentile_values = calculate_percentiles(input_inv_2_array, percentiles)\n",
    "\n",
    "for p, v in zip(percentiles, input_inv_2_percentile_values):\n",
    "    print(f\"{p}th percentile: {v}\")"
   ]
  },
  {
   "cell_type": "markdown",
   "id": "2afa6ee6",
   "metadata": {},
   "source": [
    "## 1/x degrees of each maximum value of each percentile"
   ]
  },
  {
   "cell_type": "code",
   "execution_count": 18,
   "id": "3be48d5b",
   "metadata": {},
   "outputs": [
    {
     "name": "stdout",
     "output_type": "stream",
     "text": [
      "1/x - Encoder 1\n",
      "25: 20\n",
      "50: 33\n",
      "75: 49\n",
      "80: 53\n",
      "85: 58\n",
      "90: 64\n",
      "95: 75\n",
      "97: 83\n",
      "99: 106\n",
      "99.9: 172\n",
      "99.99: 234\n",
      "99.9995: 292\n",
      "99.9999: 314\n",
      "100: 398\n",
      "1/x - Encoder 2\n",
      "25: 34\n",
      "50: 48\n",
      "75: 65\n",
      "80: 70\n",
      "85: 77\n",
      "90: 86\n",
      "95: 102\n",
      "97: 115\n",
      "99: 146\n",
      "99.9: 234\n",
      "99.99: 373\n",
      "99.9995: 565\n",
      "99.9999: 600\n",
      "100: 758\n"
     ]
    }
   ],
   "source": [
    "import numpy as np\n",
    "\n",
    "def func_inv(x):\n",
    "    return 1 / x\n",
    "\n",
    "distribution1 = [66.12, 172.10, 379.91, 444.11, 526.67, 645.88, 879.69, 1089.22, 1781.06, 4670.44, 8673.86, 13504.15, 15638.54, 25030.75]\n",
    "distribution2 = [140.67, 270.99, 504.31, 588.02, 703.44, 882.93, 1249.63, 1582.83, 2520.72, 6514.89, 16542.94, 38018.86, 42904.57, 68336.18]\n",
    "\n",
    "print(\"1/x - Encoder 1\")\n",
    "for i, label in zip(distribution1, percentiles):\n",
    "    interval_inv_1 = [1.63, i]\n",
    "    degree_inv_1 = find_optimal_degree(func_inv, interval_inv_1, max_degree=2031, desired_max_error=0.001, num_points=20000)\n",
    "    print(f\"{label}: {degree_inv_1}\")\n",
    "\n",
    "print(\"1/x - Encoder 2\")\n",
    "for i, label in zip(distribution2, percentiles):\n",
    "    interval_inv_2 = [1.31, i]\n",
    "    degree_inv_2 = find_optimal_degree(func_inv, interval_inv_2, max_degree=2031, desired_max_error=0.001, num_points=20000)\n",
    "    print(f\"{label}: {degree_inv_2}\")"
   ]
  }
 ],
 "metadata": {
  "kernelspec": {
   "display_name": "env",
   "language": "python",
   "name": "python3"
  },
  "language_info": {
   "codemirror_mode": {
    "name": "ipython",
    "version": 3
   },
   "file_extension": ".py",
   "mimetype": "text/x-python",
   "name": "python",
   "nbconvert_exporter": "python",
   "pygments_lexer": "ipython3",
   "version": "3.12.7"
  }
 },
 "nbformat": 4,
 "nbformat_minor": 5
}
